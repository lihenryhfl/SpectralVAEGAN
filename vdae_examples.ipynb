{
 "cells": [
  {
   "cell_type": "code",
   "execution_count": 1,
   "metadata": {},
   "outputs": [
    {
     "name": "stdout",
     "output_type": "stream",
     "text": [
      "Wed Aug 26 14:36:38 2020       \n",
      "+-----------------------------------------------------------------------------+\n",
      "| NVIDIA-SMI 384.130                Driver Version: 384.130                   |\n",
      "|-------------------------------+----------------------+----------------------+\n",
      "| GPU  Name        Persistence-M| Bus-Id        Disp.A | Volatile Uncorr. ECC |\n",
      "| Fan  Temp  Perf  Pwr:Usage/Cap|         Memory-Usage | GPU-Util  Compute M. |\n",
      "|===============================+======================+======================|\n",
      "|   0  GeForce GTX 1080    Off  | 00000000:04:00.0 Off |                  N/A |\n",
      "| 24%   23C    P8     7W / 180W |   7751MiB /  8114MiB |      0%      Default |\n",
      "+-------------------------------+----------------------+----------------------+\n",
      "|   1  GeForce GTX 1080    Off  | 00000000:05:00.0 Off |                  N/A |\n",
      "| 24%   28C    P8    12W / 180W |   7751MiB /  8114MiB |      0%      Default |\n",
      "+-------------------------------+----------------------+----------------------+\n",
      "|   2  GeForce GTX 1080    Off  | 00000000:08:00.0 Off |                  N/A |\n",
      "| 24%   25C    P8     6W / 180W |   7855MiB /  8114MiB |      0%      Default |\n",
      "+-------------------------------+----------------------+----------------------+\n",
      "|   3  GeForce GTX 1080    Off  | 00000000:09:00.0 Off |                  N/A |\n",
      "| 24%   27C    P8    11W / 180W |   7781MiB /  8114MiB |      0%      Default |\n",
      "+-------------------------------+----------------------+----------------------+\n",
      "|   4  GeForce GTX 1080    Off  | 00000000:85:00.0 Off |                  N/A |\n",
      "| 24%   23C    P8     6W / 180W |   7781MiB /  8114MiB |      0%      Default |\n",
      "+-------------------------------+----------------------+----------------------+\n",
      "|   5  GeForce GTX 1080    Off  | 00000000:86:00.0 Off |                  N/A |\n",
      "| 24%   41C    P2    43W / 180W |   7751MiB /  8114MiB |      6%      Default |\n",
      "+-------------------------------+----------------------+----------------------+\n",
      "|   6  GeForce GTX 1080    Off  | 00000000:89:00.0 Off |                  N/A |\n",
      "| 24%   39C    P0    42W / 180W |      0MiB /  8114MiB |      1%      Default |\n",
      "+-------------------------------+----------------------+----------------------+\n",
      "|   7  GeForce GTX 1080    Off  | 00000000:8A:00.0 Off |                  N/A |\n",
      "| 24%   26C    P8     6W / 180W |   7751MiB /  8114MiB |      0%      Default |\n",
      "+-------------------------------+----------------------+----------------------+\n",
      "                                                                               \n",
      "+-----------------------------------------------------------------------------+\n",
      "| Processes:                                                       GPU Memory |\n",
      "|  GPU       PID   Type   Process name                             Usage      |\n",
      "|=============================================================================|\n",
      "|    0     27509      C   /usr/bin/python3                            7741MiB |\n",
      "|    1     12163      C   /usr/bin/python3                            7741MiB |\n",
      "|    2      4247      C   /usr/lib/rstudio-server/bin/rsession         113MiB |\n",
      "|    2      4850      C   /usr/bin/python3                             481MiB |\n",
      "|    2     30921      C   /usr/bin/python3                            7251MiB |\n",
      "|    3      2154      C   /usr/bin/python3                            7771MiB |\n",
      "|    4      9126      C   /usr/bin/python3                            7771MiB |\n",
      "|    5      3135      C   /usr/bin/python3                            7741MiB |\n",
      "|    7     28244      C   /usr/bin/python3                            7741MiB |\n",
      "+-----------------------------------------------------------------------------+\n"
     ]
    }
   ],
   "source": [
    "!nvidia-smi"
   ]
  },
  {
   "cell_type": "code",
   "execution_count": 2,
   "metadata": {},
   "outputs": [],
   "source": [
    "import os\n",
    "os.environ['CUDA_VISIBLE_DEVICES'] = '6'"
   ]
  },
  {
   "cell_type": "code",
   "execution_count": 3,
   "metadata": {},
   "outputs": [
    {
     "name": "stderr",
     "output_type": "stream",
     "text": [
      "/usr/local/lib/python3.5/dist-packages/tensorflow/python/framework/dtypes.py:519: FutureWarning: Passing (type, 1) or '1type' as a synonym of type is deprecated; in a future version of numpy, it will be understood as (type, (1,)) / '(1,)type'.\n",
      "  _np_qint8 = np.dtype([(\"qint8\", np.int8, 1)])\n",
      "/usr/local/lib/python3.5/dist-packages/tensorflow/python/framework/dtypes.py:520: FutureWarning: Passing (type, 1) or '1type' as a synonym of type is deprecated; in a future version of numpy, it will be understood as (type, (1,)) / '(1,)type'.\n",
      "  _np_quint8 = np.dtype([(\"quint8\", np.uint8, 1)])\n",
      "/usr/local/lib/python3.5/dist-packages/tensorflow/python/framework/dtypes.py:521: FutureWarning: Passing (type, 1) or '1type' as a synonym of type is deprecated; in a future version of numpy, it will be understood as (type, (1,)) / '(1,)type'.\n",
      "  _np_qint16 = np.dtype([(\"qint16\", np.int16, 1)])\n",
      "/usr/local/lib/python3.5/dist-packages/tensorflow/python/framework/dtypes.py:522: FutureWarning: Passing (type, 1) or '1type' as a synonym of type is deprecated; in a future version of numpy, it will be understood as (type, (1,)) / '(1,)type'.\n",
      "  _np_quint16 = np.dtype([(\"quint16\", np.uint16, 1)])\n",
      "/usr/local/lib/python3.5/dist-packages/tensorflow/python/framework/dtypes.py:523: FutureWarning: Passing (type, 1) or '1type' as a synonym of type is deprecated; in a future version of numpy, it will be understood as (type, (1,)) / '(1,)type'.\n",
      "  _np_qint32 = np.dtype([(\"qint32\", np.int32, 1)])\n",
      "/usr/local/lib/python3.5/dist-packages/tensorflow/python/framework/dtypes.py:528: FutureWarning: Passing (type, 1) or '1type' as a synonym of type is deprecated; in a future version of numpy, it will be understood as (type, (1,)) / '(1,)type'.\n",
      "  np_resource = np.dtype([(\"resource\", np.ubyte, 1)])\n",
      "Using TensorFlow backend.\n"
     ]
    }
   ],
   "source": [
    "import numpy as np\n",
    "from functools import partial\n",
    "import tensorflow as tf\n",
    "import scipy\n",
    "\n",
    "from scipy.io import loadmat\n",
    "from keras.layers import Input\n",
    "\n",
    "from vdae.networks import VDAE, SpectralNet\n",
    "from vdae.vdae_util import *\n",
    "\n",
    "%matplotlib inline"
   ]
  },
  {
   "cell_type": "markdown",
   "metadata": {},
   "source": [
    "# DATASET"
   ]
  },
  {
   "cell_type": "code",
   "execution_count": 4,
   "metadata": {},
   "outputs": [],
   "source": [
    "dataset = 'loop'\n",
    "\n",
    "if dataset == 'mnist':\n",
    "    (x_train, y_train), (x_test, y_test) = mnist.load_data()\n",
    "    # reshape and standardize x arrays\n",
    "    x_train = x_train.reshape(len(x_train), -1) / 255\n",
    "    x_test = x_test.reshape(len(x_test), -1) / 255 \n",
    "    latent_dim = 10\n",
    "    bsize = 512\n",
    "elif dataset == 'coil20hr':\n",
    "    d_in = scipy.io.loadmat('data/COIL20_UNPROC_128.mat')\n",
    "    X = d_in['X'] / np.max(d_in['X'])\n",
    "    Y = d_in['Y']-1\n",
    "    Y = Y.reshape(-1)\n",
    "    x_train, x_test = X.reshape((len(X), -1)), X.reshape((len(X), -1))\n",
    "    y_train, y_test = Y, Y\n",
    "    latent_dim = 10\n",
    "    bsize = 256\n",
    "elif dataset == 'bulldog':\n",
    "    (x_train, y_train), (x_test, y_test) = generate_bulldog()\n",
    "    latent_dim = 3\n",
    "    bsize = len(x_train)\n",
    "elif dataset == 'loop':\n",
    "    (x_train, y_train), (x_test, y_test) = generate_loop(n=5000, train_set_fraction=0.85)\n",
    "    latent_dim = 3\n",
    "    bsize = len(x_train)\n",
    "elif dataset == 'faces':\n",
    "    (x_train, y_train), (x_test, y_test) = generate_faces()\n",
    "    latent_dim = 5\n",
    "    bsize = len(x_train)\n",
    "\n",
    "x_all = np.concatenate([x_train, x_test], axis=0)\n",
    "    \n",
    "# normalize to between -1 and 1\n",
    "if 'mnist' not in dataset and 'cifar' not in dataset and 'bulldog' not in dataset and 'gaussian_grid' not in dataset:\n",
    "    m, M = np.min(x_train), np.max(x_train)\n",
    "    a = (M + m) / 2\n",
    "    b = (M - m) / 2\n",
    "    x_train, x_test = (x_train - a) / b, (x_test - a) / b\n",
    "\n",
    "arch = [\n",
    "    {'type': 'relu', 'size': 500},\n",
    "    {'type': 'linear', 'size': latent_dim},\n",
    "    ]"
   ]
  },
  {
   "cell_type": "markdown",
   "metadata": {},
   "source": [
    "# TRAIN SPECTRALNET"
   ]
  },
  {
   "cell_type": "code",
   "execution_count": 5,
   "metadata": {},
   "outputs": [
    {
     "data": {
      "image/png": "[encoded data removed]",
      "text/plain": [
       "<Figure size 432x288 with 1 Axes>"
      ]
     },
     "metadata": {},
     "output_type": "display_data"
    }
   ],
   "source": [
    "g = plot(x_train, y_train)"
   ]
  },
  {
   "cell_type": "code",
   "execution_count": 6,
   "metadata": {},
   "outputs": [],
   "source": [
    "n_clusters = latent_dim\n",
    "\n",
    "batch_sizes = {\n",
    "    'Unlabeled': bsize,\n",
    "    'Labeled': bsize,\n",
    "    'Orthonorm': bsize,\n",
    "    }\n",
    "\n",
    "input_shape = x_train.shape[1:]\n",
    "y_true = tf.placeholder(tf.float32, shape=(None, n_clusters), name='y_true')\n",
    "y_train_labeled_onehot = np.empty((0, len(np.unique(y_train))))\n",
    "inputs = {\n",
    "    'Unlabeled': Input(shape=input_shape, name='UnlabeledInput'),\n",
    "    'Labeled': Input(shape=input_shape, name='LabeledInput'),\n",
    "    'Orthonorm': Input(shape=input_shape, name='OrthonormInput'),\n",
    "    }"
   ]
  },
  {
   "cell_type": "code",
   "execution_count": 7,
   "metadata": {},
   "outputs": [],
   "source": [
    "spectral_net = SpectralNet(inputs=inputs, arch=arch,\n",
    "                spec_reg=None, y_true=y_true, y_train_labeled_onehot=y_train_labeled_onehot,\n",
    "                n_clusters=n_clusters, affinity='full', scale_nbr=3, n_nbrs=12, \n",
    "                batch_sizes=batch_sizes, siamese_net=None, \n",
    "                x_train=x_train, have_labeled=False)"
   ]
  },
  {
   "cell_type": "code",
   "execution_count": 8,
   "metadata": {
    "scrolled": true
   },
   "outputs": [
    {
     "name": "stdout",
     "output_type": "stream",
     "text": [
      "Epoch: 0, val_loss=0.000000\n",
      "Epoch: 0, loss=0.005256, val_loss=0.000002\n",
      "Epoch: 1, loss=0.005031, val_loss=0.000002\n",
      "Epoch: 2, loss=0.003298, val_loss=0.000001\n",
      "Epoch: 3, loss=0.002139, val_loss=0.000001\n",
      "Epoch: 4, loss=0.001652, val_loss=0.000001\n",
      "Epoch: 5, loss=0.001399, val_loss=0.000000\n",
      "Epoch: 6, loss=0.001242, val_loss=0.000000\n",
      "Epoch: 7, loss=0.001136, val_loss=0.000000\n",
      "Epoch: 8, loss=0.001062, val_loss=0.000000\n",
      "Epoch: 9, loss=0.001006, val_loss=0.000000\n",
      "Epoch: 10, loss=0.000962, val_loss=0.000000\n",
      "Epoch: 11, loss=0.000925, val_loss=0.000000\n",
      "Epoch: 12, loss=0.000895, val_loss=0.000000\n",
      "Epoch: 13, loss=0.000870, val_loss=0.000000\n",
      "Epoch: 14, loss=0.000849, val_loss=0.000000\n",
      "Epoch: 15, loss=0.000831, val_loss=0.000000\n",
      "Epoch: 16, loss=0.000815, val_loss=0.000000\n",
      "Epoch: 17, loss=0.000800, val_loss=0.000000\n",
      "Epoch: 18, loss=0.000788, val_loss=0.000000\n",
      "Epoch: 19, loss=0.000776, val_loss=0.000000\n",
      "Epoch: 20, loss=0.000766, val_loss=0.000000\n",
      "Epoch: 21, loss=0.000757, val_loss=0.000000\n",
      "Epoch: 22, loss=0.000748, val_loss=0.000000\n",
      "Epoch: 23, loss=0.000741, val_loss=0.000000\n",
      "Epoch: 24, loss=0.000734, val_loss=0.000000\n",
      "Epoch: 25, loss=0.000728, val_loss=0.000000\n",
      "Epoch: 26, loss=0.000721, val_loss=0.000000\n",
      "Epoch: 27, loss=0.000716, val_loss=0.000000\n",
      "Epoch: 28, loss=0.000710, val_loss=0.000000\n",
      "Epoch: 29, loss=0.000705, val_loss=0.000000\n",
      "Epoch: 30, loss=0.000699, val_loss=0.000000\n",
      "Epoch: 31, loss=0.000694, val_loss=0.000000\n",
      "Epoch: 32, loss=0.000689, val_loss=0.000000\n",
      "Epoch: 33, loss=0.000685, val_loss=0.000000\n",
      "Epoch: 34, loss=0.000681, val_loss=0.000000\n",
      "Epoch: 35, loss=0.000677, val_loss=0.000000\n",
      "Epoch: 36, loss=0.000674, val_loss=0.000000\n",
      "Epoch: 37, loss=0.000670, val_loss=0.000000\n",
      "Epoch: 38, loss=0.000667, val_loss=0.000000\n",
      "Epoch: 39, loss=0.000664, val_loss=0.000000\n",
      "Epoch: 40, loss=0.000661, val_loss=0.000000\n",
      "Epoch: 41, loss=0.000658, val_loss=0.000000\n",
      "Epoch: 42, loss=0.000656, val_loss=0.000000\n",
      "Epoch: 43, loss=0.000653, val_loss=0.000000\n",
      "Epoch: 44, loss=0.000650, val_loss=0.000000\n",
      "Epoch: 45, loss=0.000648, val_loss=0.000000\n",
      "Epoch: 46, loss=0.000646, val_loss=0.000000\n",
      "Epoch: 47, loss=0.000644, val_loss=0.000000\n",
      "Epoch: 48, loss=0.000641, val_loss=0.000000\n",
      "Epoch: 49, loss=0.000639, val_loss=0.000000\n",
      "Epoch: 50, loss=0.000637, val_loss=0.000000\n",
      "Epoch: 51, loss=0.000635, val_loss=0.000000\n",
      "Epoch: 52, loss=0.000633, val_loss=0.000000\n",
      "Epoch: 53, loss=0.000631, val_loss=0.000000\n",
      "Epoch: 54, loss=0.000630, val_loss=0.000000\n",
      "Epoch: 55, loss=0.000628, val_loss=0.000000\n",
      "Epoch: 56, loss=0.000626, val_loss=0.000000\n",
      "Epoch: 57, loss=0.000625, val_loss=0.000000\n",
      "Epoch: 58, loss=0.000623, val_loss=0.000000\n",
      "Epoch: 59, loss=0.000621, val_loss=0.000000\n",
      "Epoch: 60, loss=0.000620, val_loss=0.000000\n",
      "Epoch: 61, loss=0.000618, val_loss=0.000000\n",
      "Epoch: 62, loss=0.000617, val_loss=0.000000\n",
      "Epoch: 63, loss=0.000615, val_loss=0.000000\n",
      "Epoch: 64, loss=0.000614, val_loss=0.000000\n",
      "Epoch: 65, loss=0.000613, val_loss=0.000000\n",
      "Epoch: 66, loss=0.000611, val_loss=0.000000\n",
      "Epoch: 67, loss=0.000610, val_loss=0.000000\n",
      "Epoch: 68, loss=0.000609, val_loss=0.000000\n",
      "Epoch: 69, loss=0.000609, val_loss=0.000000\n",
      "Epoch: 70, loss=0.000609, val_loss=0.000000\n",
      "Epoch: 71, loss=0.000609, val_loss=0.000000\n",
      "Epoch: 72, loss=0.000609, val_loss=0.000000\n",
      "Epoch: 73, loss=0.000608, val_loss=0.000000\n",
      "Epoch: 74, loss=0.000608, val_loss=0.000000\n",
      "Epoch: 75, loss=0.000608, val_loss=0.000000\n",
      "Epoch: 76, loss=0.000608, val_loss=0.000000\n",
      "Epoch: 77, loss=0.000608, val_loss=0.000000\n",
      "Epoch: 78, loss=0.000608, val_loss=0.000000\n",
      "Epoch: 79, loss=0.000608, val_loss=0.000000\n",
      "Epoch: 80, loss=0.000607, val_loss=0.000000\n",
      "Epoch: 81, loss=0.000607, val_loss=0.000000\n",
      "Epoch: 82, loss=0.000607, val_loss=0.000000\n",
      "Epoch: 83, loss=0.000607, val_loss=0.000000\n",
      "Epoch: 84, loss=0.000607, val_loss=0.000000\n",
      "Epoch: 85, loss=0.000607, val_loss=0.000000\n",
      "Epoch: 86, loss=0.000607, val_loss=0.000000\n",
      "Epoch: 87, loss=0.000606, val_loss=0.000000\n",
      "Epoch: 88, loss=0.000606, val_loss=0.000000\n",
      "Epoch: 89, loss=0.000606, val_loss=0.000000\n",
      "Epoch: 90, loss=0.000606, val_loss=0.000000\n",
      "Epoch: 91, loss=0.000606, val_loss=0.000000\n",
      "Epoch: 92, loss=0.000606, val_loss=0.000000\n",
      "Epoch: 93, loss=0.000606, val_loss=0.000000\n",
      "Epoch: 94, loss=0.000606, val_loss=0.000000\n",
      "Epoch: 95, loss=0.000606, val_loss=0.000000\n",
      "Epoch: 96, loss=0.000606, val_loss=0.000000\n",
      "Epoch: 97, loss=0.000606, val_loss=0.000000\n",
      "Epoch: 98, loss=0.000606, val_loss=0.000000\n",
      "Epoch: 99, loss=0.000606, val_loss=0.000000\n",
      "Epoch: 100, loss=0.000606, val_loss=0.000000\n",
      "Epoch: 101, loss=0.000606, val_loss=0.000000\n",
      "Epoch: 102, loss=0.000606, val_loss=0.000000\n",
      "Epoch: 103, loss=0.000606, val_loss=0.000000\n",
      "Epoch: 104, loss=0.000606, val_loss=0.000000\n",
      "Epoch: 105, loss=0.000606, val_loss=0.000000\n",
      "Epoch: 106, loss=0.000606, val_loss=0.000000\n",
      "Epoch: 107, loss=0.000606, val_loss=0.000000\n",
      "Epoch: 108, loss=0.000606, val_loss=0.000000\n",
      "STOPPING EARLY\n"
     ]
    },
    {
     "data": {
      "text/plain": [
       "(array([0.00525608, 0.00503084, 0.00329772, 0.00213881, 0.00165248,\n",
       "        0.00139852, 0.00124167, 0.00113649, 0.00106193, 0.001006  ,\n",
       "        0.00096172, 0.00092531, 0.00089459, 0.00086951, 0.00084871,\n",
       "        0.00083095, 0.00081491, 0.0008003 , 0.00078759, 0.00077627,\n",
       "        0.00076608, 0.00075686, 0.00074843, 0.00074092, 0.00073418,\n",
       "        0.00072779, 0.00072141, 0.00071554, 0.00071003, 0.00070453,\n",
       "        0.00069917, 0.00069401, 0.00068919, 0.00068491, 0.00068113,\n",
       "        0.00067736, 0.00067378, 0.0006704 , 0.00066719, 0.00066413,\n",
       "        0.00066113, 0.00065828, 0.00065558, 0.0006529 , 0.00065043,\n",
       "        0.00064812, 0.00064583, 0.00064356, 0.00064139, 0.00063916,\n",
       "        0.00063708, 0.0006351 , 0.00063313, 0.00063133, 0.0006296 ,\n",
       "        0.00062794, 0.00062629, 0.00062456, 0.00062272, 0.00062099,\n",
       "        0.00061951, 0.00061817, 0.00061684, 0.00061543, 0.00061395,\n",
       "        0.00061255, 0.00061121, 0.00060989, 0.00060911, 0.00060897,\n",
       "        0.00060883, 0.0006087 , 0.00060856, 0.00060842, 0.00060829,\n",
       "        0.00060815, 0.00060801, 0.00060787, 0.00060773, 0.0006076 ,\n",
       "        0.00060746, 0.00060732, 0.00060717, 0.00060703, 0.00060689,\n",
       "        0.00060675, 0.00060662, 0.00060648, 0.00060634, 0.00060626,\n",
       "        0.00060625, 0.00060624, 0.00060623, 0.00060622, 0.00060621,\n",
       "        0.0006062 , 0.00060618, 0.00060617, 0.00060616, 0.00060615,\n",
       "        0.00060614, 0.00060613, 0.00060611, 0.0006061 , 0.00060609,\n",
       "        0.00060608, 0.00060607, 0.00060606, 0.00060604, 0.00060603]),\n",
       " array([1.81248390e-06, 1.53168412e-06, 9.08066170e-07, 6.70089662e-07,\n",
       "        5.60108845e-07, 4.96189443e-07, 4.56601526e-07, 4.27259920e-07,\n",
       "        4.07128113e-07, 3.91637201e-07, 3.79938740e-07, 3.70072627e-07,\n",
       "        3.60493516e-07, 3.53185470e-07, 3.47114366e-07, 3.42326643e-07,\n",
       "        3.37645275e-07, 3.33803570e-07, 3.31033164e-07, 3.28855037e-07,\n",
       "        3.27468001e-07, 3.25409417e-07, 3.23605491e-07, 3.21920737e-07,\n",
       "        3.21094006e-07, 3.20713468e-07, 3.19524190e-07, 3.18194395e-07,\n",
       "        3.17193241e-07, 3.15861229e-07, 3.14931128e-07, 3.14085185e-07,\n",
       "        3.13280339e-07, 3.12351830e-07, 3.11590668e-07, 3.10907808e-07,\n",
       "        3.10351538e-07, 3.09780205e-07, 3.09374855e-07, 3.08856556e-07,\n",
       "        3.08391549e-07, 3.07689703e-07, 3.07456929e-07, 3.07384312e-07,\n",
       "        3.07078267e-07, 3.06704067e-07, 3.06421839e-07, 3.06677464e-07,\n",
       "        3.06902024e-07, 3.07275428e-07, 3.07654290e-07, 3.08785957e-07,\n",
       "        3.08992242e-07, 3.09014894e-07, 3.08915673e-07, 3.08926957e-07,\n",
       "        3.08994402e-07, 3.09033879e-07, 3.08995311e-07, 3.08910671e-07,\n",
       "        3.08923433e-07, 3.08944351e-07, 3.08929543e-07, 3.08880203e-07,\n",
       "        3.08842317e-07, 3.08897853e-07, 3.08962285e-07, 3.09012023e-07,\n",
       "        3.09045532e-07, 3.09044481e-07, 3.09052808e-07, 3.09056674e-07,\n",
       "        3.09065712e-07, 3.09071709e-07, 3.09080065e-07, 3.09082793e-07,\n",
       "        3.09082424e-07, 3.09088165e-07, 3.09085749e-07, 3.09072391e-07,\n",
       "        3.09064347e-07, 3.09050449e-07, 3.09041667e-07, 3.09026035e-07,\n",
       "        3.09018844e-07, 3.09000768e-07, 3.08985022e-07, 3.08964729e-07,\n",
       "        3.08951087e-07, 3.08950263e-07, 3.08956146e-07, 3.08955919e-07,\n",
       "        3.08955492e-07, 3.08951712e-07, 3.08950149e-07, 3.08949581e-07,\n",
       "        3.08951002e-07, 3.08950177e-07, 3.08954441e-07, 3.08950206e-07,\n",
       "        3.08953815e-07, 3.08951059e-07, 3.08947250e-07, 3.08953020e-07,\n",
       "        3.08951371e-07, 3.08951314e-07, 3.08950206e-07, 3.08950604e-07,\n",
       "        3.08951741e-07, 3.08950746e-07]))"
      ]
     },
     "execution_count": 8,
     "metadata": {},
     "output_type": "execute_result"
    }
   ],
   "source": [
    "spectral_net.train(\n",
    "            x_train, np.zeros_like(x_train[0:0]), x_test,\n",
    "            lr=1e-5, drop=0.1, patience=20, num_epochs=200)"
   ]
  },
  {
   "cell_type": "code",
   "execution_count": 9,
   "metadata": {
    "scrolled": false
   },
   "outputs": [
    {
     "data": {
      "image/png": "[encoded data removed]",
      "text/plain": [
       "<Figure size 432x288 with 1 Axes>"
      ]
     },
     "metadata": {},
     "output_type": "display_data"
    }
   ],
   "source": [
    "y_pred = spectral_net.predict(x_train)\n",
    "g = plot(y_pred[:,:3], y_train.reshape(-1,))"
   ]
  },
  {
   "cell_type": "code",
   "execution_count": 10,
   "metadata": {},
   "outputs": [],
   "source": [
    "# plot images over embeddings\n",
    "if 'mnist' in dataset or 'cifar' in dataset or 'coil' in dataset or 'faces' in dataset:\n",
    "    zoom = 1\n",
    "    if 'mnist' in dataset:\n",
    "        img_shape = (28, 28)\n",
    "    elif 'cifar' in dataset:\n",
    "        img_shape = (32, 32, 3)\n",
    "    elif 'coil' in dataset and 'hr' in dataset:\n",
    "        img_shape = (128, 128)\n",
    "        zoom = 0.2\n",
    "    elif 'coil' in dataset:\n",
    "        img_shape = (32, 32)\n",
    "    elif 'faces' in dataset:\n",
    "        img_shape = (28, 20)\n",
    "        zoom = 2\n",
    "    _ = imscatter(y_pred[p,0], y_pred[p,1], x_train[p], shape=img_shape, zoom=zoom)"
   ]
  },
  {
   "cell_type": "markdown",
   "metadata": {},
   "source": [
    "# TRAIN VDAE"
   ]
  },
  {
   "cell_type": "code",
   "execution_count": 15,
   "metadata": {},
   "outputs": [
    {
     "data": {
      "text/plain": [
       "[{'size': 500, 'type': 'relu'}, {'size': 3, 'type': 'linear'}]"
      ]
     },
     "execution_count": 15,
     "metadata": {},
     "output_type": "execute_result"
    }
   ],
   "source": [
    "arch"
   ]
  },
  {
   "cell_type": "code",
   "execution_count": 11,
   "metadata": {
    "scrolled": true
   },
   "outputs": [
    {
     "ename": "TypeError",
     "evalue": "unsupported operand type(s) for +: 'int' and 'dict'",
     "output_type": "error",
     "traceback": [
      "\u001b[0;31m---------------------------------------------------------------------------\u001b[0m",
      "\u001b[0;31mTypeError\u001b[0m                                 Traceback (most recent call last)",
      "\u001b[0;32m<ipython-input-11-61a1a409c5d0>\u001b[0m in \u001b[0;36m<module>\u001b[0;34m()\u001b[0m\n\u001b[1;32m      2\u001b[0m \u001b[0msvg_k\u001b[0m \u001b[0;34m=\u001b[0m \u001b[0;36m2\u001b[0m\u001b[0;34m\u001b[0m\u001b[0m\n\u001b[1;32m      3\u001b[0m \u001b[0;34m\u001b[0m\u001b[0m\n\u001b[0;32m----> 4\u001b[0;31m \u001b[0msvg\u001b[0m \u001b[0;34m=\u001b[0m \u001b[0mVDAE\u001b[0m\u001b[0;34m(\u001b[0m\u001b[0minputs\u001b[0m\u001b[0;34m,\u001b[0m \u001b[0mspectralnet\u001b[0m\u001b[0;34m=\u001b[0m\u001b[0mspectral_net\u001b[0m\u001b[0;34m,\u001b[0m \u001b[0morig_dim\u001b[0m\u001b[0;34m=\u001b[0m\u001b[0mx_train\u001b[0m\u001b[0;34m.\u001b[0m\u001b[0mshape\u001b[0m\u001b[0;34m[\u001b[0m\u001b[0;36m1\u001b[0m\u001b[0;34m:\u001b[0m\u001b[0;34m]\u001b[0m\u001b[0;34m,\u001b[0m \u001b[0mk\u001b[0m\u001b[0;34m=\u001b[0m\u001b[0msvg_k\u001b[0m\u001b[0;34m,\u001b[0m \u001b[0malpha\u001b[0m\u001b[0;34m=\u001b[0m\u001b[0;36m1.\u001b[0m\u001b[0;34m,\u001b[0m \u001b[0march\u001b[0m\u001b[0;34m=\u001b[0m\u001b[0march\u001b[0m\u001b[0;34m)\u001b[0m\u001b[0;34m\u001b[0m\u001b[0m\n\u001b[0m",
      "\u001b[0;32m~/projects/SpectralVAEGAN/vdae/networks.py\u001b[0m in \u001b[0;36m__init__\u001b[0;34m(self, inputs, spectralnet, orig_dim, alpha, normalize_factor, k, arch, lr)\u001b[0m\n\u001b[1;32m    336\u001b[0m \u001b[0;34m\u001b[0m\u001b[0m\n\u001b[1;32m    337\u001b[0m         \u001b[0;31m# create encoder\u001b[0m\u001b[0;34m\u001b[0m\u001b[0;34m\u001b[0m\u001b[0m\n\u001b[0;32m--> 338\u001b[0;31m         \u001b[0mself\u001b[0m\u001b[0;34m.\u001b[0m\u001b[0mx_enc\u001b[0m \u001b[0;34m=\u001b[0m \u001b[0mx_enc\u001b[0m \u001b[0;34m=\u001b[0m \u001b[0mself\u001b[0m\u001b[0;34m.\u001b[0m\u001b[0mbuild_encoder\u001b[0m\u001b[0;34m(\u001b[0m\u001b[0mx\u001b[0m\u001b[0;34m,\u001b[0m \u001b[0march\u001b[0m\u001b[0;34m=\u001b[0m\u001b[0mself\u001b[0m\u001b[0;34m.\u001b[0m\u001b[0march\u001b[0m\u001b[0;34m)\u001b[0m\u001b[0;34m\u001b[0m\u001b[0m\n\u001b[0m\u001b[1;32m    339\u001b[0m         \u001b[0mself\u001b[0m\u001b[0;34m.\u001b[0m\u001b[0mencoder\u001b[0m \u001b[0;34m=\u001b[0m \u001b[0mModel\u001b[0m\u001b[0;34m(\u001b[0m\u001b[0minputs\u001b[0m\u001b[0;34m=\u001b[0m\u001b[0mself\u001b[0m\u001b[0;34m.\u001b[0m\u001b[0minput\u001b[0m\u001b[0;34m,\u001b[0m \u001b[0moutputs\u001b[0m\u001b[0;34m=\u001b[0m\u001b[0mx_enc\u001b[0m\u001b[0;34m)\u001b[0m\u001b[0;34m\u001b[0m\u001b[0m\n\u001b[1;32m    340\u001b[0m \u001b[0;34m\u001b[0m\u001b[0m\n",
      "\u001b[0;32m~/projects/SpectralVAEGAN/vdae/networks.py\u001b[0m in \u001b[0;36mbuild_encoder\u001b[0;34m(self, x, arch, normalize_cov, no_noise)\u001b[0m\n\u001b[1;32m    401\u001b[0m         \u001b[0;31m# get covariance precursor\u001b[0m\u001b[0;34m\u001b[0m\u001b[0;34m\u001b[0m\u001b[0m\n\u001b[1;32m    402\u001b[0m         \u001b[0;32mfor\u001b[0m \u001b[0ml\u001b[0m \u001b[0;32min\u001b[0m \u001b[0mself\u001b[0m\u001b[0;34m.\u001b[0m\u001b[0mencoder_precov_layers\u001b[0m\u001b[0;34m:\u001b[0m\u001b[0;34m\u001b[0m\u001b[0m\n\u001b[0;32m--> 403\u001b[0;31m             \u001b[0mx_precov\u001b[0m \u001b[0;34m=\u001b[0m \u001b[0ml\u001b[0m\u001b[0;34m(\u001b[0m\u001b[0mx_precov\u001b[0m\u001b[0;34m)\u001b[0m\u001b[0;34m\u001b[0m\u001b[0m\n\u001b[0m\u001b[1;32m    404\u001b[0m \u001b[0;34m\u001b[0m\u001b[0m\n\u001b[1;32m    405\u001b[0m         \u001b[0mx_eig\u001b[0m \u001b[0;34m=\u001b[0m \u001b[0mx\u001b[0m\u001b[0;34m\u001b[0m\u001b[0m\n",
      "\u001b[0;32m/usr/local/lib/python3.5/dist-packages/keras/engine/base_layer.py\u001b[0m in \u001b[0;36m__call__\u001b[0;34m(self, inputs, **kwargs)\u001b[0m\n\u001b[1;32m    430\u001b[0m                                          '`layer.build(batch_input_shape)`')\n\u001b[1;32m    431\u001b[0m                 \u001b[0;32mif\u001b[0m \u001b[0mlen\u001b[0m\u001b[0;34m(\u001b[0m\u001b[0minput_shapes\u001b[0m\u001b[0;34m)\u001b[0m \u001b[0;34m==\u001b[0m \u001b[0;36m1\u001b[0m\u001b[0;34m:\u001b[0m\u001b[0;34m\u001b[0m\u001b[0m\n\u001b[0;32m--> 432\u001b[0;31m                     \u001b[0mself\u001b[0m\u001b[0;34m.\u001b[0m\u001b[0mbuild\u001b[0m\u001b[0;34m(\u001b[0m\u001b[0minput_shapes\u001b[0m\u001b[0;34m[\u001b[0m\u001b[0;36m0\u001b[0m\u001b[0;34m]\u001b[0m\u001b[0;34m)\u001b[0m\u001b[0;34m\u001b[0m\u001b[0m\n\u001b[0m\u001b[1;32m    433\u001b[0m                 \u001b[0;32melse\u001b[0m\u001b[0;34m:\u001b[0m\u001b[0;34m\u001b[0m\u001b[0m\n\u001b[1;32m    434\u001b[0m                     \u001b[0mself\u001b[0m\u001b[0;34m.\u001b[0m\u001b[0mbuild\u001b[0m\u001b[0;34m(\u001b[0m\u001b[0minput_shapes\u001b[0m\u001b[0;34m)\u001b[0m\u001b[0;34m\u001b[0m\u001b[0m\n",
      "\u001b[0;32m/usr/local/lib/python3.5/dist-packages/keras/layers/core.py\u001b[0m in \u001b[0;36mbuild\u001b[0;34m(self, input_shape)\u001b[0m\n\u001b[1;32m    870\u001b[0m                                       \u001b[0mname\u001b[0m\u001b[0;34m=\u001b[0m\u001b[0;34m'kernel'\u001b[0m\u001b[0;34m,\u001b[0m\u001b[0;34m\u001b[0m\u001b[0m\n\u001b[1;32m    871\u001b[0m                                       \u001b[0mregularizer\u001b[0m\u001b[0;34m=\u001b[0m\u001b[0mself\u001b[0m\u001b[0;34m.\u001b[0m\u001b[0mkernel_regularizer\u001b[0m\u001b[0;34m,\u001b[0m\u001b[0;34m\u001b[0m\u001b[0m\n\u001b[0;32m--> 872\u001b[0;31m                                       constraint=self.kernel_constraint)\n\u001b[0m\u001b[1;32m    873\u001b[0m         \u001b[0;32mif\u001b[0m \u001b[0mself\u001b[0m\u001b[0;34m.\u001b[0m\u001b[0muse_bias\u001b[0m\u001b[0;34m:\u001b[0m\u001b[0;34m\u001b[0m\u001b[0m\n\u001b[1;32m    874\u001b[0m             self.bias = self.add_weight(shape=(self.units,),\n",
      "\u001b[0;32m/usr/local/lib/python3.5/dist-packages/keras/legacy/interfaces.py\u001b[0m in \u001b[0;36mwrapper\u001b[0;34m(*args, **kwargs)\u001b[0m\n\u001b[1;32m     89\u001b[0m                 warnings.warn('Update your `' + object_name +\n\u001b[1;32m     90\u001b[0m                               '` call to the Keras 2 API: ' + signature, stacklevel=2)\n\u001b[0;32m---> 91\u001b[0;31m             \u001b[0;32mreturn\u001b[0m \u001b[0mfunc\u001b[0m\u001b[0;34m(\u001b[0m\u001b[0;34m*\u001b[0m\u001b[0margs\u001b[0m\u001b[0;34m,\u001b[0m \u001b[0;34m**\u001b[0m\u001b[0mkwargs\u001b[0m\u001b[0;34m)\u001b[0m\u001b[0;34m\u001b[0m\u001b[0m\n\u001b[0m\u001b[1;32m     92\u001b[0m         \u001b[0mwrapper\u001b[0m\u001b[0;34m.\u001b[0m\u001b[0m_original_function\u001b[0m \u001b[0;34m=\u001b[0m \u001b[0mfunc\u001b[0m\u001b[0;34m\u001b[0m\u001b[0m\n\u001b[1;32m     93\u001b[0m         \u001b[0;32mreturn\u001b[0m \u001b[0mwrapper\u001b[0m\u001b[0;34m\u001b[0m\u001b[0m\n",
      "\u001b[0;32m/usr/local/lib/python3.5/dist-packages/keras/engine/base_layer.py\u001b[0m in \u001b[0;36madd_weight\u001b[0;34m(self, name, shape, dtype, initializer, regularizer, trainable, constraint)\u001b[0m\n\u001b[1;32m    247\u001b[0m         \u001b[0;32mif\u001b[0m \u001b[0mdtype\u001b[0m \u001b[0;32mis\u001b[0m \u001b[0;32mNone\u001b[0m\u001b[0;34m:\u001b[0m\u001b[0;34m\u001b[0m\u001b[0m\n\u001b[1;32m    248\u001b[0m             \u001b[0mdtype\u001b[0m \u001b[0;34m=\u001b[0m \u001b[0mK\u001b[0m\u001b[0;34m.\u001b[0m\u001b[0mfloatx\u001b[0m\u001b[0;34m(\u001b[0m\u001b[0;34m)\u001b[0m\u001b[0;34m\u001b[0m\u001b[0m\n\u001b[0;32m--> 249\u001b[0;31m         weight = K.variable(initializer(shape),\n\u001b[0m\u001b[1;32m    250\u001b[0m                             \u001b[0mdtype\u001b[0m\u001b[0;34m=\u001b[0m\u001b[0mdtype\u001b[0m\u001b[0;34m,\u001b[0m\u001b[0;34m\u001b[0m\u001b[0m\n\u001b[1;32m    251\u001b[0m                             \u001b[0mname\u001b[0m\u001b[0;34m=\u001b[0m\u001b[0mname\u001b[0m\u001b[0;34m,\u001b[0m\u001b[0;34m\u001b[0m\u001b[0m\n",
      "\u001b[0;32m/usr/local/lib/python3.5/dist-packages/keras/initializers.py\u001b[0m in \u001b[0;36m__call__\u001b[0;34m(self, shape, dtype)\u001b[0m\n\u001b[1;32m    207\u001b[0m             \u001b[0mscale\u001b[0m \u001b[0;34m/=\u001b[0m \u001b[0mmax\u001b[0m\u001b[0;34m(\u001b[0m\u001b[0;36m1.\u001b[0m\u001b[0;34m,\u001b[0m \u001b[0mfan_out\u001b[0m\u001b[0;34m)\u001b[0m\u001b[0;34m\u001b[0m\u001b[0m\n\u001b[1;32m    208\u001b[0m         \u001b[0;32melse\u001b[0m\u001b[0;34m:\u001b[0m\u001b[0;34m\u001b[0m\u001b[0m\n\u001b[0;32m--> 209\u001b[0;31m             \u001b[0mscale\u001b[0m \u001b[0;34m/=\u001b[0m \u001b[0mmax\u001b[0m\u001b[0;34m(\u001b[0m\u001b[0;36m1.\u001b[0m\u001b[0;34m,\u001b[0m \u001b[0mfloat\u001b[0m\u001b[0;34m(\u001b[0m\u001b[0mfan_in\u001b[0m \u001b[0;34m+\u001b[0m \u001b[0mfan_out\u001b[0m\u001b[0;34m)\u001b[0m \u001b[0;34m/\u001b[0m \u001b[0;36m2\u001b[0m\u001b[0;34m)\u001b[0m\u001b[0;34m\u001b[0m\u001b[0m\n\u001b[0m\u001b[1;32m    210\u001b[0m         \u001b[0;32mif\u001b[0m \u001b[0mself\u001b[0m\u001b[0;34m.\u001b[0m\u001b[0mdistribution\u001b[0m \u001b[0;34m==\u001b[0m \u001b[0;34m'normal'\u001b[0m\u001b[0;34m:\u001b[0m\u001b[0;34m\u001b[0m\u001b[0m\n\u001b[1;32m    211\u001b[0m             \u001b[0;31m# 0.879... = scipy.stats.truncnorm.std(a=-2, b=2, loc=0., scale=1.)\u001b[0m\u001b[0;34m\u001b[0m\u001b[0;34m\u001b[0m\u001b[0m\n",
      "\u001b[0;31mTypeError\u001b[0m: unsupported operand type(s) for +: 'int' and 'dict'"
     ]
    }
   ],
   "source": [
    "svg_bsize = 288\n",
    "svg_k = 2\n",
    "svg_arch = [500]\n",
    "\n",
    "svg = VDAE(inputs, spectralnet=spectral_net, orig_dim=x_train.shape[1:], k=svg_k, alpha=1., arch=svg_arch)"
   ]
  },
  {
   "cell_type": "code",
   "execution_count": null,
   "metadata": {
    "scrolled": true
   },
   "outputs": [],
   "source": [
    "svg.train(x_train, epochs=5000, batch_size=svg_bsize, full_batch=True)"
   ]
  },
  {
   "cell_type": "code",
   "execution_count": null,
   "metadata": {},
   "outputs": [],
   "source": [
    "# take a random walk step of a point. then plot its nearest neighbor\n",
    "x_recon, z_mu, z_sigma_v, z_sigma_lam, _x_enc = svg.generate_from_samples(x_train, return_mu_sigma=True, normalize_cov=False)"
   ]
  },
  {
   "cell_type": "code",
   "execution_count": null,
   "metadata": {},
   "outputs": [],
   "source": [
    "plot(x_recon[:1000], y_train[:1000])"
   ]
  },
  {
   "cell_type": "markdown",
   "metadata": {},
   "source": [
    "# ANALYSIS"
   ]
  },
  {
   "cell_type": "code",
   "execution_count": null,
   "metadata": {
    "scrolled": true
   },
   "outputs": [],
   "source": [
    "f = partial(svg.generate_from_samples, return_mu_sigma=True)#, normalize_cov=0.)\n",
    "def walk(f, x_arr, branch_factor=20, n_steps=10, max_size=5000):\n",
    "    p = np.random.permutation(len(x_arr))[:max_size]\n",
    "    x_arr = x_arr[p]\n",
    "    orig_shape = (-1,) + (x_arr.shape[1:])\n",
    "    for i in range(n_steps):\n",
    "        x_arr = np.array([x_arr] * branch_factor).reshape(orig_shape)\n",
    "        (x_arr, z_mu, z_sigma_v, z_sigma_lam, _x_enc) = f(x_arr)\n",
    "        p = np.random.permutation(len(x_arr))[:max_size]\n",
    "        x_arr, z_mu, z_sigma_v, z_sigma_lam, _x_enc = x_arr[p], z_mu[p], z_sigma_v[p], z_sigma_lam[p], _x_enc[p]\n",
    "        x_arr = x_arr.reshape(orig_shape)\n",
    "    \n",
    "    p = np.random.permutation(len(x_arr))[:max_size]\n",
    "    x_arr = x_arr[p]\n",
    "        \n",
    "    return x_arr, z_mu, z_sigma_v, z_sigma_lam, _x_enc\n",
    "\n",
    "# NOW GENERATE all data points\n",
    "max_size = min(1000, len(x_train))\n",
    "x_arrs = []\n",
    "test_size = len(x_train)\n",
    "n_ = 0\n",
    "while n_ < test_size:\n",
    "    p = np.random.permutation(len(x_test))[:200]\n",
    "    x_test_sample = x_test[p]\n",
    "    x_arr, z_mu, z_sigma_v, z_sigma_lam, _x_enc = walk(f, x_test_sample, n_steps=4, branch_factor=2, max_size=max_size)\n",
    "    x_arrs.append(x_arr)\n",
    "    n_ += len(x_arr)\n",
    "    print(\"generated {}/{} points\".format(n_, test_size), _x_enc.shape, x_arr.shape)\n",
    "\n",
    "x_gens = np.concatenate(x_arrs, axis=0)[:len(x_train)]\n",
    "\n",
    "# COMPUTE GROMOV-WASSERSTEIN\n",
    "gw = gromorov_wasserstein_d(x_train, x_gens)\n",
    "\n",
    "# COMPUTE BILIP CONSTANT\n",
    "Ks = bilip(_x_enc, x_arr, 100)\n",
    "print('Mean bi-Lipschitz constant: {:.4f} +- {:.4f}'.format(np.mean(Ks), np.std(Ks)))\n",
    "print('Gromov-wasserstein distance: {:.4f}'.format(gw))"
   ]
  },
  {
   "cell_type": "code",
   "execution_count": null,
   "metadata": {},
   "outputs": [],
   "source": [
    "# pick subset size\n",
    "n_p = min(1000, len(x_train))\n",
    "p = np.random.permutation(len(x_train))[:n_p]\n",
    "x_train_p = x_train[p]\n",
    "y_train_p = y_train[p]\n",
    "\n",
    "# plot generated points\n",
    "x_gen = svg.generate_from_samples(x_train_p, normalize_cov=False)\n",
    "g = plot(x_gen, y_train_p, x2=x_train_p, s2=0)\n",
    "p_train = np.random.permutation(len(x_train))[:n_p]"
   ]
  },
  {
   "cell_type": "markdown",
   "metadata": {},
   "source": [
    "### RANDOM WALK TESTING"
   ]
  },
  {
   "cell_type": "code",
   "execution_count": null,
   "metadata": {},
   "outputs": [],
   "source": [
    "p = np.random.permutation(len(x_test))[:1]\n",
    "x_test_sample = x_test[p]\n",
    "print('random walking on {}'.format(y_test[p]))\n",
    "x_arr, z_mu, z_sigma_v, z_sigma_lam, _x_enc = walk(f, x_test_sample, n_steps=10)"
   ]
  },
  {
   "cell_type": "code",
   "execution_count": null,
   "metadata": {},
   "outputs": [],
   "source": [
    "p = np.random.permutation(len(x_arr))\n",
    "x_true_n_gen = np.concatenate([x_test_sample, x_arr[p]], axis=0)\n",
    "g = plot(x_true_n_gen, shuffle=False)"
   ]
  },
  {
   "cell_type": "code",
   "execution_count": null,
   "metadata": {},
   "outputs": [],
   "source": [
    "g, ax = plot(x_arr, x2=x_test, label1='predicted', label2='true', alpha2=0.2)\n",
    "plt.title('predicted vs true points in data space')"
   ]
  },
  {
   "cell_type": "code",
   "execution_count": null,
   "metadata": {},
   "outputs": [],
   "source": [
    "g = plot(z_mu, x2=f(x_test)[1], label1='predicted', label2='true')\n",
    "plt.title('predicted vs true points in latent space')"
   ]
  },
  {
   "cell_type": "code",
   "execution_count": null,
   "metadata": {},
   "outputs": [],
   "source": [
    "g = plot(x_arr, x2=x_test_sample, label1='predicted', label2='seed point', s2=1000)\n",
    "plt.title('predicted vs initial seed point in data space')"
   ]
  },
  {
   "cell_type": "code",
   "execution_count": null,
   "metadata": {},
   "outputs": [],
   "source": [
    "g = plot(z_mu, x2=f(x_test_sample)[1], label1='predicted', label2='seed point', s2=1000)\n",
    "plt.title('predicted vs initial seed point in latent space')"
   ]
  },
  {
   "cell_type": "code",
   "execution_count": null,
   "metadata": {},
   "outputs": [],
   "source": []
  }
 ],
 "metadata": {
  "kernelspec": {
   "display_name": "Python 3",
   "language": "python",
   "name": "python3"
  },
  "language_info": {
   "codemirror_mode": {
    "name": "ipython",
    "version": 3
   },
   "file_extension": ".py",
   "mimetype": "text/x-python",
   "name": "python",
   "nbconvert_exporter": "python",
   "pygments_lexer": "ipython3",
   "version": "3.5.2"
  }
 },
 "nbformat": 4,
 "nbformat_minor": 2
}
