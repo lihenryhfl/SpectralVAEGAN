{
 "cells": [
  {
   "cell_type": "code",
   "execution_count": 1,
   "metadata": {},
   "outputs": [
    {
     "name": "stdout",
     "output_type": "stream",
     "text": [
      "zsh:1: command not found: nvidia-smi\r\n"
     ]
    }
   ],
   "source": [
    "!nvidia-smi"
   ]
  },
  {
   "cell_type": "code",
   "execution_count": 2,
   "metadata": {},
   "outputs": [],
   "source": [
    "import os\n",
    "os.environ['CUDA_VISIBLE_DEVICES'] = '6'"
   ]
  },
  {
   "cell_type": "code",
   "execution_count": 3,
   "metadata": {},
   "outputs": [
    {
     "name": "stderr",
     "output_type": "stream",
     "text": [
      "/Users/fl276/projects/SpectralVAEGAN/venv/lib/python3.7/site-packages/tensorflow/python/framework/dtypes.py:526: FutureWarning: Passing (type, 1) or '1type' as a synonym of type is deprecated; in a future version of numpy, it will be understood as (type, (1,)) / '(1,)type'.\n",
      "  _np_qint8 = np.dtype([(\"qint8\", np.int8, 1)])\n",
      "/Users/fl276/projects/SpectralVAEGAN/venv/lib/python3.7/site-packages/tensorflow/python/framework/dtypes.py:527: FutureWarning: Passing (type, 1) or '1type' as a synonym of type is deprecated; in a future version of numpy, it will be understood as (type, (1,)) / '(1,)type'.\n",
      "  _np_quint8 = np.dtype([(\"quint8\", np.uint8, 1)])\n",
      "/Users/fl276/projects/SpectralVAEGAN/venv/lib/python3.7/site-packages/tensorflow/python/framework/dtypes.py:528: FutureWarning: Passing (type, 1) or '1type' as a synonym of type is deprecated; in a future version of numpy, it will be understood as (type, (1,)) / '(1,)type'.\n",
      "  _np_qint16 = np.dtype([(\"qint16\", np.int16, 1)])\n",
      "/Users/fl276/projects/SpectralVAEGAN/venv/lib/python3.7/site-packages/tensorflow/python/framework/dtypes.py:529: FutureWarning: Passing (type, 1) or '1type' as a synonym of type is deprecated; in a future version of numpy, it will be understood as (type, (1,)) / '(1,)type'.\n",
      "  _np_quint16 = np.dtype([(\"quint16\", np.uint16, 1)])\n",
      "/Users/fl276/projects/SpectralVAEGAN/venv/lib/python3.7/site-packages/tensorflow/python/framework/dtypes.py:530: FutureWarning: Passing (type, 1) or '1type' as a synonym of type is deprecated; in a future version of numpy, it will be understood as (type, (1,)) / '(1,)type'.\n",
      "  _np_qint32 = np.dtype([(\"qint32\", np.int32, 1)])\n",
      "/Users/fl276/projects/SpectralVAEGAN/venv/lib/python3.7/site-packages/tensorflow/python/framework/dtypes.py:535: FutureWarning: Passing (type, 1) or '1type' as a synonym of type is deprecated; in a future version of numpy, it will be understood as (type, (1,)) / '(1,)type'.\n",
      "  np_resource = np.dtype([(\"resource\", np.ubyte, 1)])\n",
      "Using TensorFlow backend.\n"
     ]
    }
   ],
   "source": [
    "import numpy as np\n",
    "from functools import partial\n",
    "import tensorflow as tf\n",
    "import scipy\n",
    "\n",
    "from scipy.io import loadmat\n",
    "from keras.layers import Input\n",
    "\n",
    "from vdae.networks import VDAE, SpectralNet\n",
    "from vdae.vdae_util import *\n",
    "\n",
    "%matplotlib inline"
   ]
  },
  {
   "cell_type": "markdown",
   "metadata": {},
   "source": [
    "# DATASET"
   ]
  },
  {
   "cell_type": "code",
   "execution_count": 4,
   "metadata": {},
   "outputs": [],
   "source": [
    "dataset = 'loop'\n",
    "\n",
    "if dataset == 'mnist':\n",
    "    (x_train, y_train), (x_test, y_test) = mnist.load_data()\n",
    "    # reshape and standardize x arrays\n",
    "    x_train = x_train.reshape(len(x_train), -1) / 255\n",
    "    x_test = x_test.reshape(len(x_test), -1) / 255 \n",
    "    latent_dim = 10\n",
    "    bsize = 512\n",
    "elif dataset == 'coil20hr':\n",
    "    d_in = scipy.io.loadmat('data/COIL20_UNPROC_128.mat')\n",
    "    X = d_in['X'] / np.max(d_in['X'])\n",
    "    Y = d_in['Y']-1\n",
    "    Y = Y.reshape(-1)\n",
    "    x_train, x_test = X.reshape((len(X), -1)), X.reshape((len(X), -1))\n",
    "    y_train, y_test = Y, Y\n",
    "    latent_dim = 10\n",
    "    bsize = 256\n",
    "elif dataset == 'bulldog':\n",
    "    (x_train, y_train), (x_test, y_test) = generate_bulldog()\n",
    "    latent_dim = 3\n",
    "    bsize = len(x_train)\n",
    "elif dataset == 'loop':\n",
    "    (x_train, y_train), (x_test, y_test) = generate_loop(n=5000, train_set_fraction=0.85)\n",
    "    latent_dim = 3\n",
    "    bsize = len(x_train)\n",
    "elif dataset == 'faces':\n",
    "    (x_train, y_train), (x_test, y_test) = generate_faces()\n",
    "    latent_dim = 5\n",
    "    bsize = len(x_train)\n",
    "\n",
    "x_all = np.concatenate([x_train, x_test], axis=0)\n",
    "    \n",
    "# normalize to between -1 and 1\n",
    "if 'mnist' not in dataset and 'cifar' not in dataset and 'bulldog' not in dataset and 'gaussian_grid' not in dataset:\n",
    "    m, M = np.min(x_train), np.max(x_train)\n",
    "    a = (M + m) / 2\n",
    "    b = (M - m) / 2\n",
    "    x_train, x_test = (x_train - a) / b, (x_test - a) / b\n",
    "\n",
    "arch = [\n",
    "    {'type': 'relu', 'size': 500},\n",
    "    {'type': 'linear', 'size': latent_dim},\n",
    "    ]"
   ]
  },
  {
   "cell_type": "markdown",
   "metadata": {},
   "source": [
    "# TRAIN SPECTRALNET"
   ]
  },
  {
   "cell_type": "code",
   "execution_count": 5,
   "metadata": {},
   "outputs": [
    {
     "data": {
      "image/png": "[encoded data removed]",
      "text/plain": [
       "<Figure size 432x288 with 1 Axes>"
      ]
     },
     "metadata": {
      "needs_background": "light"
     },
     "output_type": "display_data"
    }
   ],
   "source": [
    "g = plot(x_train, y_train)"
   ]
  },
  {
   "cell_type": "code",
   "execution_count": 6,
   "metadata": {},
   "outputs": [],
   "source": [
    "n_clusters = latent_dim\n",
    "\n",
    "batch_sizes = {\n",
    "    'Unlabeled': bsize,\n",
    "    'Labeled': bsize,\n",
    "    'Orthonorm': bsize,\n",
    "    }\n",
    "\n",
    "input_shape = x_train.shape[1:]\n",
    "y_true = tf.placeholder(tf.float32, shape=(None, n_clusters), name='y_true')\n",
    "y_train_labeled_onehot = np.empty((0, len(np.unique(y_train))))\n",
    "inputs = {\n",
    "    'Unlabeled': Input(shape=input_shape, name='UnlabeledInput'),\n",
    "    'Labeled': Input(shape=input_shape, name='LabeledInput'),\n",
    "    'Orthonorm': Input(shape=input_shape, name='OrthonormInput'),\n",
    "    }"
   ]
  },
  {
   "cell_type": "code",
   "execution_count": 7,
   "metadata": {},
   "outputs": [
    {
     "name": "stdout",
     "output_type": "stream",
     "text": [
      "WARNING:tensorflow:From /Users/fl276/projects/SpectralVAEGAN/venv/lib/python3.7/site-packages/tensorflow/python/ops/resource_variable_ops.py:435: colocate_with (from tensorflow.python.framework.ops) is deprecated and will be removed in a future version.\n",
      "Instructions for updating:\n",
      "Colocations handled automatically by placer.\n",
      "WARNING:tensorflow:From /Users/fl276/projects/SpectralVAEGAN/venv/lib/python3.7/site-packages/tensorflow/python/ops/math_ops.py:3066: to_int32 (from tensorflow.python.ops.math_ops) is deprecated and will be removed in a future version.\n",
      "Instructions for updating:\n",
      "Use tf.cast instead.\n",
      "IMPORTANT: [<tf.Variable 'Unlabeled/spectral_0/kernel:0' shape=(3, 500) dtype=float32>, <tf.Variable 'Unlabeled/spectral_0/bias:0' shape=(500,) dtype=float32>, <tf.Variable 'Unlabeled_1/spectral_1/kernel:0' shape=(500, 3) dtype=float32>, <tf.Variable 'Unlabeled_1/spectral_1/bias:0' shape=(3,) dtype=float32>] <tf.Variable 'ortho_weights_store:0' shape=(3, 3) dtype=float32_ref>\n"
     ]
    }
   ],
   "source": [
    "spectral_net = SpectralNet(inputs=inputs, arch=arch,\n",
    "                spec_reg=None, y_true=y_true, y_train_labeled_onehot=y_train_labeled_onehot,\n",
    "                n_clusters=n_clusters, affinity='full', scale_nbr=3, n_nbrs=12, \n",
    "                batch_sizes=batch_sizes, siamese_net=None, \n",
    "                x_train=x_train, have_labeled=False)"
   ]
  },
  {
   "cell_type": "code",
   "execution_count": 8,
   "metadata": {},
   "outputs": [
    {
     "data": {
      "text/plain": [
       "[<tf.Variable 'Unlabeled/spectral_0/kernel:0' shape=(3, 500) dtype=float32>,\n",
       " <tf.Variable 'Unlabeled/spectral_0/bias:0' shape=(500,) dtype=float32>,\n",
       " <tf.Variable 'Unlabeled_1/spectral_1/kernel:0' shape=(500, 3) dtype=float32>,\n",
       " <tf.Variable 'Unlabeled_1/spectral_1/bias:0' shape=(3,) dtype=float32>]"
      ]
     },
     "execution_count": 8,
     "metadata": {},
     "output_type": "execute_result"
    }
   ],
   "source": [
    "spectral_net.net.trainable_weights"
   ]
  },
  {
   "cell_type": "code",
   "execution_count": 9,
   "metadata": {
    "scrolled": true
   },
   "outputs": [
    {
     "name": "stdout",
     "output_type": "stream",
     "text": [
      "Epoch: 0, val_loss=0.000000\n"
     ]
    },
    {
     "ename": "InternalError",
     "evalue": "Invalid variable reference.\n\t [[node RMSProp/update_Unlabeled_1/spectral_1/bias/ResourceApplyRMSProp (defined at /Users/fl276/projects/SpectralVAEGAN/vdae/networks.py:157) ]]\n\nCaused by op 'RMSProp/update_Unlabeled_1/spectral_1/bias/ResourceApplyRMSProp', defined at:\n  File \"/Users/fl276/.pyenv/versions/3.7.8/lib/python3.7/runpy.py\", line 193, in _run_module_as_main\n    \"__main__\", mod_spec)\n  File \"/Users/fl276/.pyenv/versions/3.7.8/lib/python3.7/runpy.py\", line 85, in _run_code\n    exec(code, run_globals)\n  File \"/Users/fl276/projects/SpectralVAEGAN/venv/lib/python3.7/site-packages/ipykernel_launcher.py\", line 16, in <module>\n    app.launch_new_instance()\n  File \"/Users/fl276/projects/SpectralVAEGAN/venv/lib/python3.7/site-packages/traitlets/config/application.py\", line 664, in launch_instance\n    app.start()\n  File \"/Users/fl276/projects/SpectralVAEGAN/venv/lib/python3.7/site-packages/ipykernel/kernelapp.py\", line 612, in start\n    self.io_loop.start()\n  File \"/Users/fl276/projects/SpectralVAEGAN/venv/lib/python3.7/site-packages/tornado/platform/asyncio.py\", line 149, in start\n    self.asyncio_loop.run_forever()\n  File \"/Users/fl276/.pyenv/versions/3.7.8/lib/python3.7/asyncio/base_events.py\", line 541, in run_forever\n    self._run_once()\n  File \"/Users/fl276/.pyenv/versions/3.7.8/lib/python3.7/asyncio/base_events.py\", line 1786, in _run_once\n    handle._run()\n  File \"/Users/fl276/.pyenv/versions/3.7.8/lib/python3.7/asyncio/events.py\", line 88, in _run\n    self._context.run(self._callback, *self._args)\n  File \"/Users/fl276/projects/SpectralVAEGAN/venv/lib/python3.7/site-packages/tornado/ioloop.py\", line 690, in <lambda>\n    lambda f: self._run_callback(functools.partial(callback, future))\n  File \"/Users/fl276/projects/SpectralVAEGAN/venv/lib/python3.7/site-packages/tornado/ioloop.py\", line 743, in _run_callback\n    ret = callback()\n  File \"/Users/fl276/projects/SpectralVAEGAN/venv/lib/python3.7/site-packages/tornado/gen.py\", line 787, in inner\n    self.run()\n  File \"/Users/fl276/projects/SpectralVAEGAN/venv/lib/python3.7/site-packages/tornado/gen.py\", line 748, in run\n    yielded = self.gen.send(value)\n  File \"/Users/fl276/projects/SpectralVAEGAN/venv/lib/python3.7/site-packages/ipykernel/kernelbase.py\", line 365, in process_one\n    yield gen.maybe_future(dispatch(*args))\n  File \"/Users/fl276/projects/SpectralVAEGAN/venv/lib/python3.7/site-packages/tornado/gen.py\", line 209, in wrapper\n    yielded = next(result)\n  File \"/Users/fl276/projects/SpectralVAEGAN/venv/lib/python3.7/site-packages/ipykernel/kernelbase.py\", line 268, in dispatch_shell\n    yield gen.maybe_future(handler(stream, idents, msg))\n  File \"/Users/fl276/projects/SpectralVAEGAN/venv/lib/python3.7/site-packages/tornado/gen.py\", line 209, in wrapper\n    yielded = next(result)\n  File \"/Users/fl276/projects/SpectralVAEGAN/venv/lib/python3.7/site-packages/ipykernel/kernelbase.py\", line 545, in execute_request\n    user_expressions, allow_stdin,\n  File \"/Users/fl276/projects/SpectralVAEGAN/venv/lib/python3.7/site-packages/tornado/gen.py\", line 209, in wrapper\n    yielded = next(result)\n  File \"/Users/fl276/projects/SpectralVAEGAN/venv/lib/python3.7/site-packages/ipykernel/ipkernel.py\", line 306, in do_execute\n    res = shell.run_cell(code, store_history=store_history, silent=silent)\n  File \"/Users/fl276/projects/SpectralVAEGAN/venv/lib/python3.7/site-packages/ipykernel/zmqshell.py\", line 536, in run_cell\n    return super(ZMQInteractiveShell, self).run_cell(*args, **kwargs)\n  File \"/Users/fl276/projects/SpectralVAEGAN/venv/lib/python3.7/site-packages/IPython/core/interactiveshell.py\", line 2877, in run_cell\n    raw_cell, store_history, silent, shell_futures)\n  File \"/Users/fl276/projects/SpectralVAEGAN/venv/lib/python3.7/site-packages/IPython/core/interactiveshell.py\", line 2922, in _run_cell\n    return runner(coro)\n  File \"/Users/fl276/projects/SpectralVAEGAN/venv/lib/python3.7/site-packages/IPython/core/async_helpers.py\", line 68, in _pseudo_sync_runner\n    coro.send(None)\n  File \"/Users/fl276/projects/SpectralVAEGAN/venv/lib/python3.7/site-packages/IPython/core/interactiveshell.py\", line 3146, in run_cell_async\n    interactivity=interactivity, compiler=compiler, result=result)\n  File \"/Users/fl276/projects/SpectralVAEGAN/venv/lib/python3.7/site-packages/IPython/core/interactiveshell.py\", line 3337, in run_ast_nodes\n    if (await self.run_code(code, result,  async_=asy)):\n  File \"/Users/fl276/projects/SpectralVAEGAN/venv/lib/python3.7/site-packages/IPython/core/interactiveshell.py\", line 3417, in run_code\n    exec(code_obj, self.user_global_ns, self.user_ns)\n  File \"<ipython-input-7-baa22c7a6414>\", line 5, in <module>\n    x_train=x_train, have_labeled=False)\n  File \"/Users/fl276/projects/SpectralVAEGAN/vdae/networks.py\", line 157, in __init__\n    self.train_step = tf.train.RMSPropOptimizer(learning_rate=self.learning_rate).minimize(self.loss, var_list=self.net.trainable_weights)\n  File \"/Users/fl276/projects/SpectralVAEGAN/venv/lib/python3.7/site-packages/tensorflow/python/training/optimizer.py\", line 413, in minimize\n    name=name)\n  File \"/Users/fl276/projects/SpectralVAEGAN/venv/lib/python3.7/site-packages/tensorflow/python/training/optimizer.py\", line 612, in apply_gradients\n    update_ops.append(processor.update_op(self, grad))\n  File \"/Users/fl276/projects/SpectralVAEGAN/venv/lib/python3.7/site-packages/tensorflow/python/training/optimizer.py\", line 171, in update_op\n    update_op = optimizer._resource_apply_dense(g, self._v)\n  File \"/Users/fl276/projects/SpectralVAEGAN/venv/lib/python3.7/site-packages/tensorflow/python/training/rmsprop.py\", line 194, in _resource_apply_dense\n    use_locking=self._use_locking)\n  File \"/Users/fl276/projects/SpectralVAEGAN/venv/lib/python3.7/site-packages/tensorflow/python/training/gen_training_ops.py\", line 2357, in resource_apply_rms_prop\n    use_locking=use_locking, name=name)\n  File \"/Users/fl276/projects/SpectralVAEGAN/venv/lib/python3.7/site-packages/tensorflow/python/framework/op_def_library.py\", line 788, in _apply_op_helper\n    op_def=op_def)\n  File \"/Users/fl276/projects/SpectralVAEGAN/venv/lib/python3.7/site-packages/tensorflow/python/util/deprecation.py\", line 507, in new_func\n    return func(*args, **kwargs)\n  File \"/Users/fl276/projects/SpectralVAEGAN/venv/lib/python3.7/site-packages/tensorflow/python/framework/ops.py\", line 3300, in create_op\n    op_def=op_def)\n  File \"/Users/fl276/projects/SpectralVAEGAN/venv/lib/python3.7/site-packages/tensorflow/python/framework/ops.py\", line 1801, in __init__\n    self._traceback = tf_stack.extract_stack()\n\nInternalError (see above for traceback): Invalid variable reference.\n\t [[node RMSProp/update_Unlabeled_1/spectral_1/bias/ResourceApplyRMSProp (defined at /Users/fl276/projects/SpectralVAEGAN/vdae/networks.py:157) ]]\n",
     "output_type": "error",
     "traceback": [
      "\u001b[0;31m---------------------------------------------------------------------------\u001b[0m",
      "\u001b[0;31mInternalError\u001b[0m                             Traceback (most recent call last)",
      "\u001b[0;32m~/projects/SpectralVAEGAN/venv/lib/python3.7/site-packages/tensorflow/python/client/session.py\u001b[0m in \u001b[0;36m_do_call\u001b[0;34m(self, fn, *args)\u001b[0m\n\u001b[1;32m   1333\u001b[0m     \u001b[0;32mtry\u001b[0m\u001b[0;34m:\u001b[0m\u001b[0;34m\u001b[0m\u001b[0;34m\u001b[0m\u001b[0m\n\u001b[0;32m-> 1334\u001b[0;31m       \u001b[0;32mreturn\u001b[0m \u001b[0mfn\u001b[0m\u001b[0;34m(\u001b[0m\u001b[0;34m*\u001b[0m\u001b[0margs\u001b[0m\u001b[0;34m)\u001b[0m\u001b[0;34m\u001b[0m\u001b[0;34m\u001b[0m\u001b[0m\n\u001b[0m\u001b[1;32m   1335\u001b[0m     \u001b[0;32mexcept\u001b[0m \u001b[0merrors\u001b[0m\u001b[0;34m.\u001b[0m\u001b[0mOpError\u001b[0m \u001b[0;32mas\u001b[0m \u001b[0me\u001b[0m\u001b[0;34m:\u001b[0m\u001b[0;34m\u001b[0m\u001b[0;34m\u001b[0m\u001b[0m\n",
      "\u001b[0;32m~/projects/SpectralVAEGAN/venv/lib/python3.7/site-packages/tensorflow/python/client/session.py\u001b[0m in \u001b[0;36m_run_fn\u001b[0;34m(feed_dict, fetch_list, target_list, options, run_metadata)\u001b[0m\n\u001b[1;32m   1318\u001b[0m       return self._call_tf_sessionrun(\n\u001b[0;32m-> 1319\u001b[0;31m           options, feed_dict, fetch_list, target_list, run_metadata)\n\u001b[0m\u001b[1;32m   1320\u001b[0m \u001b[0;34m\u001b[0m\u001b[0m\n",
      "\u001b[0;32m~/projects/SpectralVAEGAN/venv/lib/python3.7/site-packages/tensorflow/python/client/session.py\u001b[0m in \u001b[0;36m_call_tf_sessionrun\u001b[0;34m(self, options, feed_dict, fetch_list, target_list, run_metadata)\u001b[0m\n\u001b[1;32m   1406\u001b[0m         \u001b[0mself\u001b[0m\u001b[0;34m.\u001b[0m\u001b[0m_session\u001b[0m\u001b[0;34m,\u001b[0m \u001b[0moptions\u001b[0m\u001b[0;34m,\u001b[0m \u001b[0mfeed_dict\u001b[0m\u001b[0;34m,\u001b[0m \u001b[0mfetch_list\u001b[0m\u001b[0;34m,\u001b[0m \u001b[0mtarget_list\u001b[0m\u001b[0;34m,\u001b[0m\u001b[0;34m\u001b[0m\u001b[0;34m\u001b[0m\u001b[0m\n\u001b[0;32m-> 1407\u001b[0;31m         run_metadata)\n\u001b[0m\u001b[1;32m   1408\u001b[0m \u001b[0;34m\u001b[0m\u001b[0m\n",
      "\u001b[0;31mInternalError\u001b[0m: Invalid variable reference.\n\t [[{{node RMSProp/update_Unlabeled_1/spectral_1/bias/ResourceApplyRMSProp}}]]",
      "\nDuring handling of the above exception, another exception occurred:\n",
      "\u001b[0;31mInternalError\u001b[0m                             Traceback (most recent call last)",
      "\u001b[0;32m<ipython-input-9-dfff47e328ce>\u001b[0m in \u001b[0;36m<module>\u001b[0;34m\u001b[0m\n\u001b[1;32m      1\u001b[0m spectral_net.train(\n\u001b[1;32m      2\u001b[0m             \u001b[0mx_train\u001b[0m\u001b[0;34m,\u001b[0m \u001b[0mnp\u001b[0m\u001b[0;34m.\u001b[0m\u001b[0mzeros_like\u001b[0m\u001b[0;34m(\u001b[0m\u001b[0mx_train\u001b[0m\u001b[0;34m[\u001b[0m\u001b[0;36m0\u001b[0m\u001b[0;34m:\u001b[0m\u001b[0;36m0\u001b[0m\u001b[0;34m]\u001b[0m\u001b[0;34m)\u001b[0m\u001b[0;34m,\u001b[0m \u001b[0mx_test\u001b[0m\u001b[0;34m,\u001b[0m\u001b[0;34m\u001b[0m\u001b[0;34m\u001b[0m\u001b[0m\n\u001b[0;32m----> 3\u001b[0;31m             lr=1e-5, drop=0.1, patience=20, num_epochs=200)\n\u001b[0m",
      "\u001b[0;32m~/projects/SpectralVAEGAN/vdae/networks.py\u001b[0m in \u001b[0;36mtrain\u001b[0;34m(self, x_train_unlabeled, x_train_labeled, x_val_unlabeled, lr, drop, patience, num_epochs, single_step)\u001b[0m\n\u001b[1;32m    202\u001b[0m                     \u001b[0mx_labeled\u001b[0m\u001b[0;34m=\u001b[0m\u001b[0mx_train_labeled\u001b[0m\u001b[0;34m,\u001b[0m\u001b[0;34m\u001b[0m\u001b[0;34m\u001b[0m\u001b[0m\n\u001b[1;32m    203\u001b[0m                     \u001b[0my_labeled\u001b[0m\u001b[0;34m=\u001b[0m\u001b[0mself\u001b[0m\u001b[0;34m.\u001b[0m\u001b[0my_train_labeled_onehot\u001b[0m\u001b[0;34m,\u001b[0m\u001b[0;34m\u001b[0m\u001b[0;34m\u001b[0m\u001b[0m\n\u001b[0;32m--> 204\u001b[0;31m                     batches_per_epoch=bpe)[0]\n\u001b[0m\u001b[1;32m    205\u001b[0m \u001b[0;34m\u001b[0m\u001b[0m\n\u001b[1;32m    206\u001b[0m             \u001b[0;31m# get validation loss\u001b[0m\u001b[0;34m\u001b[0m\u001b[0;34m\u001b[0m\u001b[0;34m\u001b[0m\u001b[0m\n",
      "\u001b[0;32m~/projects/SpectralVAEGAN/vdae/train.py\u001b[0m in \u001b[0;36mtrain_step\u001b[0;34m(return_var, updates, x_unlabeled, inputs, y_true, batch_sizes, x_labeled, y_labeled, batches_per_epoch)\u001b[0m\n\u001b[1;32m     90\u001b[0m \u001b[0;34m\u001b[0m\u001b[0m\n\u001b[1;32m     91\u001b[0m         \u001b[0mall_vars\u001b[0m \u001b[0;34m=\u001b[0m \u001b[0mreturn_var\u001b[0m \u001b[0;34m+\u001b[0m \u001b[0mupdates\u001b[0m\u001b[0;34m\u001b[0m\u001b[0;34m\u001b[0m\u001b[0m\n\u001b[0;32m---> 92\u001b[0;31m         \u001b[0mreturn_vars_\u001b[0m \u001b[0;34m+=\u001b[0m \u001b[0mnp\u001b[0m\u001b[0;34m.\u001b[0m\u001b[0masarray\u001b[0m\u001b[0;34m(\u001b[0m\u001b[0mK\u001b[0m\u001b[0;34m.\u001b[0m\u001b[0mget_session\u001b[0m\u001b[0;34m(\u001b[0m\u001b[0;34m)\u001b[0m\u001b[0;34m.\u001b[0m\u001b[0mrun\u001b[0m\u001b[0;34m(\u001b[0m\u001b[0mall_vars\u001b[0m\u001b[0;34m,\u001b[0m \u001b[0mfeed_dict\u001b[0m\u001b[0;34m=\u001b[0m\u001b[0mfeed_dict\u001b[0m\u001b[0;34m)\u001b[0m\u001b[0;34m[\u001b[0m\u001b[0;34m:\u001b[0m\u001b[0mlen\u001b[0m\u001b[0;34m(\u001b[0m\u001b[0mreturn_var\u001b[0m\u001b[0;34m)\u001b[0m\u001b[0;34m]\u001b[0m\u001b[0;34m)\u001b[0m\u001b[0;34m\u001b[0m\u001b[0;34m\u001b[0m\u001b[0m\n\u001b[0m\u001b[1;32m     93\u001b[0m \u001b[0;34m\u001b[0m\u001b[0m\n\u001b[1;32m     94\u001b[0m     \u001b[0;32mreturn\u001b[0m \u001b[0mreturn_vars_\u001b[0m\u001b[0;34m\u001b[0m\u001b[0;34m\u001b[0m\u001b[0m\n",
      "\u001b[0;32m~/projects/SpectralVAEGAN/venv/lib/python3.7/site-packages/tensorflow/python/client/session.py\u001b[0m in \u001b[0;36mrun\u001b[0;34m(self, fetches, feed_dict, options, run_metadata)\u001b[0m\n\u001b[1;32m    927\u001b[0m     \u001b[0;32mtry\u001b[0m\u001b[0;34m:\u001b[0m\u001b[0;34m\u001b[0m\u001b[0;34m\u001b[0m\u001b[0m\n\u001b[1;32m    928\u001b[0m       result = self._run(None, fetches, feed_dict, options_ptr,\n\u001b[0;32m--> 929\u001b[0;31m                          run_metadata_ptr)\n\u001b[0m\u001b[1;32m    930\u001b[0m       \u001b[0;32mif\u001b[0m \u001b[0mrun_metadata\u001b[0m\u001b[0;34m:\u001b[0m\u001b[0;34m\u001b[0m\u001b[0;34m\u001b[0m\u001b[0m\n\u001b[1;32m    931\u001b[0m         \u001b[0mproto_data\u001b[0m \u001b[0;34m=\u001b[0m \u001b[0mtf_session\u001b[0m\u001b[0;34m.\u001b[0m\u001b[0mTF_GetBuffer\u001b[0m\u001b[0;34m(\u001b[0m\u001b[0mrun_metadata_ptr\u001b[0m\u001b[0;34m)\u001b[0m\u001b[0;34m\u001b[0m\u001b[0;34m\u001b[0m\u001b[0m\n",
      "\u001b[0;32m~/projects/SpectralVAEGAN/venv/lib/python3.7/site-packages/tensorflow/python/client/session.py\u001b[0m in \u001b[0;36m_run\u001b[0;34m(self, handle, fetches, feed_dict, options, run_metadata)\u001b[0m\n\u001b[1;32m   1150\u001b[0m     \u001b[0;32mif\u001b[0m \u001b[0mfinal_fetches\u001b[0m \u001b[0;32mor\u001b[0m \u001b[0mfinal_targets\u001b[0m \u001b[0;32mor\u001b[0m \u001b[0;34m(\u001b[0m\u001b[0mhandle\u001b[0m \u001b[0;32mand\u001b[0m \u001b[0mfeed_dict_tensor\u001b[0m\u001b[0;34m)\u001b[0m\u001b[0;34m:\u001b[0m\u001b[0;34m\u001b[0m\u001b[0;34m\u001b[0m\u001b[0m\n\u001b[1;32m   1151\u001b[0m       results = self._do_run(handle, final_targets, final_fetches,\n\u001b[0;32m-> 1152\u001b[0;31m                              feed_dict_tensor, options, run_metadata)\n\u001b[0m\u001b[1;32m   1153\u001b[0m     \u001b[0;32melse\u001b[0m\u001b[0;34m:\u001b[0m\u001b[0;34m\u001b[0m\u001b[0;34m\u001b[0m\u001b[0m\n\u001b[1;32m   1154\u001b[0m       \u001b[0mresults\u001b[0m \u001b[0;34m=\u001b[0m \u001b[0;34m[\u001b[0m\u001b[0;34m]\u001b[0m\u001b[0;34m\u001b[0m\u001b[0;34m\u001b[0m\u001b[0m\n",
      "\u001b[0;32m~/projects/SpectralVAEGAN/venv/lib/python3.7/site-packages/tensorflow/python/client/session.py\u001b[0m in \u001b[0;36m_do_run\u001b[0;34m(self, handle, target_list, fetch_list, feed_dict, options, run_metadata)\u001b[0m\n\u001b[1;32m   1326\u001b[0m     \u001b[0;32mif\u001b[0m \u001b[0mhandle\u001b[0m \u001b[0;32mis\u001b[0m \u001b[0;32mNone\u001b[0m\u001b[0;34m:\u001b[0m\u001b[0;34m\u001b[0m\u001b[0;34m\u001b[0m\u001b[0m\n\u001b[1;32m   1327\u001b[0m       return self._do_call(_run_fn, feeds, fetches, targets, options,\n\u001b[0;32m-> 1328\u001b[0;31m                            run_metadata)\n\u001b[0m\u001b[1;32m   1329\u001b[0m     \u001b[0;32melse\u001b[0m\u001b[0;34m:\u001b[0m\u001b[0;34m\u001b[0m\u001b[0;34m\u001b[0m\u001b[0m\n\u001b[1;32m   1330\u001b[0m       \u001b[0;32mreturn\u001b[0m \u001b[0mself\u001b[0m\u001b[0;34m.\u001b[0m\u001b[0m_do_call\u001b[0m\u001b[0;34m(\u001b[0m\u001b[0m_prun_fn\u001b[0m\u001b[0;34m,\u001b[0m \u001b[0mhandle\u001b[0m\u001b[0;34m,\u001b[0m \u001b[0mfeeds\u001b[0m\u001b[0;34m,\u001b[0m \u001b[0mfetches\u001b[0m\u001b[0;34m)\u001b[0m\u001b[0;34m\u001b[0m\u001b[0;34m\u001b[0m\u001b[0m\n",
      "\u001b[0;32m~/projects/SpectralVAEGAN/venv/lib/python3.7/site-packages/tensorflow/python/client/session.py\u001b[0m in \u001b[0;36m_do_call\u001b[0;34m(self, fn, *args)\u001b[0m\n\u001b[1;32m   1346\u001b[0m           \u001b[0;32mpass\u001b[0m\u001b[0;34m\u001b[0m\u001b[0;34m\u001b[0m\u001b[0m\n\u001b[1;32m   1347\u001b[0m       \u001b[0mmessage\u001b[0m \u001b[0;34m=\u001b[0m \u001b[0merror_interpolation\u001b[0m\u001b[0;34m.\u001b[0m\u001b[0minterpolate\u001b[0m\u001b[0;34m(\u001b[0m\u001b[0mmessage\u001b[0m\u001b[0;34m,\u001b[0m \u001b[0mself\u001b[0m\u001b[0;34m.\u001b[0m\u001b[0m_graph\u001b[0m\u001b[0;34m)\u001b[0m\u001b[0;34m\u001b[0m\u001b[0;34m\u001b[0m\u001b[0m\n\u001b[0;32m-> 1348\u001b[0;31m       \u001b[0;32mraise\u001b[0m \u001b[0mtype\u001b[0m\u001b[0;34m(\u001b[0m\u001b[0me\u001b[0m\u001b[0;34m)\u001b[0m\u001b[0;34m(\u001b[0m\u001b[0mnode_def\u001b[0m\u001b[0;34m,\u001b[0m \u001b[0mop\u001b[0m\u001b[0;34m,\u001b[0m \u001b[0mmessage\u001b[0m\u001b[0;34m)\u001b[0m\u001b[0;34m\u001b[0m\u001b[0;34m\u001b[0m\u001b[0m\n\u001b[0m\u001b[1;32m   1349\u001b[0m \u001b[0;34m\u001b[0m\u001b[0m\n\u001b[1;32m   1350\u001b[0m   \u001b[0;32mdef\u001b[0m \u001b[0m_extend_graph\u001b[0m\u001b[0;34m(\u001b[0m\u001b[0mself\u001b[0m\u001b[0;34m)\u001b[0m\u001b[0;34m:\u001b[0m\u001b[0;34m\u001b[0m\u001b[0;34m\u001b[0m\u001b[0m\n",
      "\u001b[0;31mInternalError\u001b[0m: Invalid variable reference.\n\t [[node RMSProp/update_Unlabeled_1/spectral_1/bias/ResourceApplyRMSProp (defined at /Users/fl276/projects/SpectralVAEGAN/vdae/networks.py:157) ]]\n\nCaused by op 'RMSProp/update_Unlabeled_1/spectral_1/bias/ResourceApplyRMSProp', defined at:\n  File \"/Users/fl276/.pyenv/versions/3.7.8/lib/python3.7/runpy.py\", line 193, in _run_module_as_main\n    \"__main__\", mod_spec)\n  File \"/Users/fl276/.pyenv/versions/3.7.8/lib/python3.7/runpy.py\", line 85, in _run_code\n    exec(code, run_globals)\n  File \"/Users/fl276/projects/SpectralVAEGAN/venv/lib/python3.7/site-packages/ipykernel_launcher.py\", line 16, in <module>\n    app.launch_new_instance()\n  File \"/Users/fl276/projects/SpectralVAEGAN/venv/lib/python3.7/site-packages/traitlets/config/application.py\", line 664, in launch_instance\n    app.start()\n  File \"/Users/fl276/projects/SpectralVAEGAN/venv/lib/python3.7/site-packages/ipykernel/kernelapp.py\", line 612, in start\n    self.io_loop.start()\n  File \"/Users/fl276/projects/SpectralVAEGAN/venv/lib/python3.7/site-packages/tornado/platform/asyncio.py\", line 149, in start\n    self.asyncio_loop.run_forever()\n  File \"/Users/fl276/.pyenv/versions/3.7.8/lib/python3.7/asyncio/base_events.py\", line 541, in run_forever\n    self._run_once()\n  File \"/Users/fl276/.pyenv/versions/3.7.8/lib/python3.7/asyncio/base_events.py\", line 1786, in _run_once\n    handle._run()\n  File \"/Users/fl276/.pyenv/versions/3.7.8/lib/python3.7/asyncio/events.py\", line 88, in _run\n    self._context.run(self._callback, *self._args)\n  File \"/Users/fl276/projects/SpectralVAEGAN/venv/lib/python3.7/site-packages/tornado/ioloop.py\", line 690, in <lambda>\n    lambda f: self._run_callback(functools.partial(callback, future))\n  File \"/Users/fl276/projects/SpectralVAEGAN/venv/lib/python3.7/site-packages/tornado/ioloop.py\", line 743, in _run_callback\n    ret = callback()\n  File \"/Users/fl276/projects/SpectralVAEGAN/venv/lib/python3.7/site-packages/tornado/gen.py\", line 787, in inner\n    self.run()\n  File \"/Users/fl276/projects/SpectralVAEGAN/venv/lib/python3.7/site-packages/tornado/gen.py\", line 748, in run\n    yielded = self.gen.send(value)\n  File \"/Users/fl276/projects/SpectralVAEGAN/venv/lib/python3.7/site-packages/ipykernel/kernelbase.py\", line 365, in process_one\n    yield gen.maybe_future(dispatch(*args))\n  File \"/Users/fl276/projects/SpectralVAEGAN/venv/lib/python3.7/site-packages/tornado/gen.py\", line 209, in wrapper\n    yielded = next(result)\n  File \"/Users/fl276/projects/SpectralVAEGAN/venv/lib/python3.7/site-packages/ipykernel/kernelbase.py\", line 268, in dispatch_shell\n    yield gen.maybe_future(handler(stream, idents, msg))\n  File \"/Users/fl276/projects/SpectralVAEGAN/venv/lib/python3.7/site-packages/tornado/gen.py\", line 209, in wrapper\n    yielded = next(result)\n  File \"/Users/fl276/projects/SpectralVAEGAN/venv/lib/python3.7/site-packages/ipykernel/kernelbase.py\", line 545, in execute_request\n    user_expressions, allow_stdin,\n  File \"/Users/fl276/projects/SpectralVAEGAN/venv/lib/python3.7/site-packages/tornado/gen.py\", line 209, in wrapper\n    yielded = next(result)\n  File \"/Users/fl276/projects/SpectralVAEGAN/venv/lib/python3.7/site-packages/ipykernel/ipkernel.py\", line 306, in do_execute\n    res = shell.run_cell(code, store_history=store_history, silent=silent)\n  File \"/Users/fl276/projects/SpectralVAEGAN/venv/lib/python3.7/site-packages/ipykernel/zmqshell.py\", line 536, in run_cell\n    return super(ZMQInteractiveShell, self).run_cell(*args, **kwargs)\n  File \"/Users/fl276/projects/SpectralVAEGAN/venv/lib/python3.7/site-packages/IPython/core/interactiveshell.py\", line 2877, in run_cell\n    raw_cell, store_history, silent, shell_futures)\n  File \"/Users/fl276/projects/SpectralVAEGAN/venv/lib/python3.7/site-packages/IPython/core/interactiveshell.py\", line 2922, in _run_cell\n    return runner(coro)\n  File \"/Users/fl276/projects/SpectralVAEGAN/venv/lib/python3.7/site-packages/IPython/core/async_helpers.py\", line 68, in _pseudo_sync_runner\n    coro.send(None)\n  File \"/Users/fl276/projects/SpectralVAEGAN/venv/lib/python3.7/site-packages/IPython/core/interactiveshell.py\", line 3146, in run_cell_async\n    interactivity=interactivity, compiler=compiler, result=result)\n  File \"/Users/fl276/projects/SpectralVAEGAN/venv/lib/python3.7/site-packages/IPython/core/interactiveshell.py\", line 3337, in run_ast_nodes\n    if (await self.run_code(code, result,  async_=asy)):\n  File \"/Users/fl276/projects/SpectralVAEGAN/venv/lib/python3.7/site-packages/IPython/core/interactiveshell.py\", line 3417, in run_code\n    exec(code_obj, self.user_global_ns, self.user_ns)\n  File \"<ipython-input-7-baa22c7a6414>\", line 5, in <module>\n    x_train=x_train, have_labeled=False)\n  File \"/Users/fl276/projects/SpectralVAEGAN/vdae/networks.py\", line 157, in __init__\n    self.train_step = tf.train.RMSPropOptimizer(learning_rate=self.learning_rate).minimize(self.loss, var_list=self.net.trainable_weights)\n  File \"/Users/fl276/projects/SpectralVAEGAN/venv/lib/python3.7/site-packages/tensorflow/python/training/optimizer.py\", line 413, in minimize\n    name=name)\n  File \"/Users/fl276/projects/SpectralVAEGAN/venv/lib/python3.7/site-packages/tensorflow/python/training/optimizer.py\", line 612, in apply_gradients\n    update_ops.append(processor.update_op(self, grad))\n  File \"/Users/fl276/projects/SpectralVAEGAN/venv/lib/python3.7/site-packages/tensorflow/python/training/optimizer.py\", line 171, in update_op\n    update_op = optimizer._resource_apply_dense(g, self._v)\n  File \"/Users/fl276/projects/SpectralVAEGAN/venv/lib/python3.7/site-packages/tensorflow/python/training/rmsprop.py\", line 194, in _resource_apply_dense\n    use_locking=self._use_locking)\n  File \"/Users/fl276/projects/SpectralVAEGAN/venv/lib/python3.7/site-packages/tensorflow/python/training/gen_training_ops.py\", line 2357, in resource_apply_rms_prop\n    use_locking=use_locking, name=name)\n  File \"/Users/fl276/projects/SpectralVAEGAN/venv/lib/python3.7/site-packages/tensorflow/python/framework/op_def_library.py\", line 788, in _apply_op_helper\n    op_def=op_def)\n  File \"/Users/fl276/projects/SpectralVAEGAN/venv/lib/python3.7/site-packages/tensorflow/python/util/deprecation.py\", line 507, in new_func\n    return func(*args, **kwargs)\n  File \"/Users/fl276/projects/SpectralVAEGAN/venv/lib/python3.7/site-packages/tensorflow/python/framework/ops.py\", line 3300, in create_op\n    op_def=op_def)\n  File \"/Users/fl276/projects/SpectralVAEGAN/venv/lib/python3.7/site-packages/tensorflow/python/framework/ops.py\", line 1801, in __init__\n    self._traceback = tf_stack.extract_stack()\n\nInternalError (see above for traceback): Invalid variable reference.\n\t [[node RMSProp/update_Unlabeled_1/spectral_1/bias/ResourceApplyRMSProp (defined at /Users/fl276/projects/SpectralVAEGAN/vdae/networks.py:157) ]]\n"
     ]
    }
   ],
   "source": [
    "spectral_net.train(\n",
    "            x_train, np.zeros_like(x_train[0:0]), x_test,\n",
    "            lr=1e-5, drop=0.1, patience=20, num_epochs=200)"
   ]
  },
  {
   "cell_type": "code",
   "execution_count": null,
   "metadata": {
    "scrolled": false
   },
   "outputs": [],
   "source": [
    "y_pred = spectral_net.predict(x_train)\n",
    "g = plot(y_pred[:,:3], y_train.reshape(-1,))"
   ]
  },
  {
   "cell_type": "code",
   "execution_count": null,
   "metadata": {},
   "outputs": [],
   "source": [
    "# plot images over embeddings\n",
    "if 'mnist' in dataset or 'cifar' in dataset or 'coil' in dataset or 'faces' in dataset:\n",
    "    zoom = 1\n",
    "    if 'mnist' in dataset:\n",
    "        img_shape = (28, 28)\n",
    "    elif 'cifar' in dataset:\n",
    "        img_shape = (32, 32, 3)\n",
    "    elif 'coil' in dataset and 'hr' in dataset:\n",
    "        img_shape = (128, 128)\n",
    "        zoom = 0.2\n",
    "    elif 'coil' in dataset:\n",
    "        img_shape = (32, 32)\n",
    "    elif 'faces' in dataset:\n",
    "        img_shape = (28, 20)\n",
    "        zoom = 2\n",
    "    _ = imscatter(y_pred[p,0], y_pred[p,1], x_train[p], shape=img_shape, zoom=zoom)"
   ]
  },
  {
   "cell_type": "markdown",
   "metadata": {},
   "source": [
    "# TRAIN VDAE"
   ]
  },
  {
   "cell_type": "code",
   "execution_count": null,
   "metadata": {},
   "outputs": [],
   "source": [
    "arch"
   ]
  },
  {
   "cell_type": "code",
   "execution_count": null,
   "metadata": {
    "scrolled": true
   },
   "outputs": [],
   "source": [
    "svg_bsize = 288\n",
    "svg_k = 2\n",
    "svg_arch = [500]\n",
    "\n",
    "svg = VDAE(inputs, spectralnet=spectral_net, orig_dim=x_train.shape[1:], k=svg_k, alpha=1., arch=svg_arch)"
   ]
  },
  {
   "cell_type": "code",
   "execution_count": null,
   "metadata": {
    "scrolled": true
   },
   "outputs": [],
   "source": [
    "svg.train(x_train, epochs=5000, batch_size=svg_bsize, full_batch=True)"
   ]
  },
  {
   "cell_type": "code",
   "execution_count": null,
   "metadata": {},
   "outputs": [],
   "source": [
    "# take a random walk step of a point. then plot its nearest neighbor\n",
    "x_recon, z_mu, z_sigma_v, z_sigma_lam, _x_enc = svg.generate_from_samples(x_train, return_mu_sigma=True, normalize_cov=False)"
   ]
  },
  {
   "cell_type": "code",
   "execution_count": null,
   "metadata": {},
   "outputs": [],
   "source": [
    "plot(x_recon[:1000], y_train[:1000])"
   ]
  },
  {
   "cell_type": "markdown",
   "metadata": {},
   "source": [
    "# ANALYSIS"
   ]
  },
  {
   "cell_type": "code",
   "execution_count": null,
   "metadata": {
    "scrolled": true
   },
   "outputs": [],
   "source": [
    "f = partial(svg.generate_from_samples, return_mu_sigma=True)#, normalize_cov=0.)\n",
    "def walk(f, x_arr, branch_factor=20, n_steps=10, max_size=5000):\n",
    "    p = np.random.permutation(len(x_arr))[:max_size]\n",
    "    x_arr = x_arr[p]\n",
    "    orig_shape = (-1,) + (x_arr.shape[1:])\n",
    "    for i in range(n_steps):\n",
    "        x_arr = np.array([x_arr] * branch_factor).reshape(orig_shape)\n",
    "        (x_arr, z_mu, z_sigma_v, z_sigma_lam, _x_enc) = f(x_arr)\n",
    "        p = np.random.permutation(len(x_arr))[:max_size]\n",
    "        x_arr, z_mu, z_sigma_v, z_sigma_lam, _x_enc = x_arr[p], z_mu[p], z_sigma_v[p], z_sigma_lam[p], _x_enc[p]\n",
    "        x_arr = x_arr.reshape(orig_shape)\n",
    "    \n",
    "    p = np.random.permutation(len(x_arr))[:max_size]\n",
    "    x_arr = x_arr[p]\n",
    "        \n",
    "    return x_arr, z_mu, z_sigma_v, z_sigma_lam, _x_enc\n",
    "\n",
    "# NOW GENERATE all data points\n",
    "max_size = min(1000, len(x_train))\n",
    "x_arrs = []\n",
    "test_size = len(x_train)\n",
    "n_ = 0\n",
    "while n_ < test_size:\n",
    "    p = np.random.permutation(len(x_test))[:200]\n",
    "    x_test_sample = x_test[p]\n",
    "    x_arr, z_mu, z_sigma_v, z_sigma_lam, _x_enc = walk(f, x_test_sample, n_steps=4, branch_factor=2, max_size=max_size)\n",
    "    x_arrs.append(x_arr)\n",
    "    n_ += len(x_arr)\n",
    "    print(\"generated {}/{} points\".format(n_, test_size), _x_enc.shape, x_arr.shape)\n",
    "\n",
    "x_gens = np.concatenate(x_arrs, axis=0)[:len(x_train)]\n",
    "\n",
    "# COMPUTE GROMOV-WASSERSTEIN\n",
    "gw = gromorov_wasserstein_d(x_train, x_gens)\n",
    "\n",
    "# COMPUTE BILIP CONSTANT\n",
    "Ks = bilip(_x_enc, x_arr, 100)\n",
    "print('Mean bi-Lipschitz constant: {:.4f} +- {:.4f}'.format(np.mean(Ks), np.std(Ks)))\n",
    "print('Gromov-wasserstein distance: {:.4f}'.format(gw))"
   ]
  },
  {
   "cell_type": "code",
   "execution_count": null,
   "metadata": {},
   "outputs": [],
   "source": [
    "# pick subset size\n",
    "n_p = min(1000, len(x_train))\n",
    "p = np.random.permutation(len(x_train))[:n_p]\n",
    "x_train_p = x_train[p]\n",
    "y_train_p = y_train[p]\n",
    "\n",
    "# plot generated points\n",
    "x_gen = svg.generate_from_samples(x_train_p, normalize_cov=False)\n",
    "g = plot(x_gen, y_train_p, x2=x_train_p, s2=0)\n",
    "p_train = np.random.permutation(len(x_train))[:n_p]"
   ]
  },
  {
   "cell_type": "markdown",
   "metadata": {},
   "source": [
    "### RANDOM WALK TESTING"
   ]
  },
  {
   "cell_type": "code",
   "execution_count": null,
   "metadata": {},
   "outputs": [],
   "source": [
    "p = np.random.permutation(len(x_test))[:1]\n",
    "x_test_sample = x_test[p]\n",
    "print('random walking on {}'.format(y_test[p]))\n",
    "x_arr, z_mu, z_sigma_v, z_sigma_lam, _x_enc = walk(f, x_test_sample, n_steps=10)"
   ]
  },
  {
   "cell_type": "code",
   "execution_count": null,
   "metadata": {},
   "outputs": [],
   "source": [
    "p = np.random.permutation(len(x_arr))\n",
    "x_true_n_gen = np.concatenate([x_test_sample, x_arr[p]], axis=0)\n",
    "g = plot(x_true_n_gen, shuffle=False)"
   ]
  },
  {
   "cell_type": "code",
   "execution_count": null,
   "metadata": {},
   "outputs": [],
   "source": [
    "g, ax = plot(x_arr, x2=x_test, label1='predicted', label2='true', alpha2=0.2)\n",
    "plt.title('predicted vs true points in data space')"
   ]
  },
  {
   "cell_type": "code",
   "execution_count": null,
   "metadata": {},
   "outputs": [],
   "source": [
    "g = plot(z_mu, x2=f(x_test)[1], label1='predicted', label2='true')\n",
    "plt.title('predicted vs true points in latent space')"
   ]
  },
  {
   "cell_type": "code",
   "execution_count": null,
   "metadata": {},
   "outputs": [],
   "source": [
    "g = plot(x_arr, x2=x_test_sample, label1='predicted', label2='seed point', s2=1000)\n",
    "plt.title('predicted vs initial seed point in data space')"
   ]
  },
  {
   "cell_type": "code",
   "execution_count": null,
   "metadata": {},
   "outputs": [],
   "source": [
    "g = plot(z_mu, x2=f(x_test_sample)[1], label1='predicted', label2='seed point', s2=1000)\n",
    "plt.title('predicted vs initial seed point in latent space')"
   ]
  },
  {
   "cell_type": "code",
   "execution_count": null,
   "metadata": {},
   "outputs": [],
   "source": []
  }
 ],
 "metadata": {
  "kernelspec": {
   "display_name": "Python 3",
   "language": "python",
   "name": "python3"
  },
  "language_info": {
   "codemirror_mode": {
    "name": "ipython",
    "version": 3
   },
   "file_extension": ".py",
   "mimetype": "text/x-python",
   "name": "python",
   "nbconvert_exporter": "python",
   "pygments_lexer": "ipython3",
   "version": "3.7.8"
  }
 },
 "nbformat": 4,
 "nbformat_minor": 2
}
