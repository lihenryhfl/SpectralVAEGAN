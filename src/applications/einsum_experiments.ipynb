{
 "cells": [
  {
   "cell_type": "code",
   "execution_count": 1,
   "metadata": {},
   "outputs": [
    {
     "name": "stdout",
     "output_type": "stream",
     "text": [
      "[[1. 2.]\n",
      " [1. 2.]]\n"
     ]
    }
   ],
   "source": [
    "import numpy as np\n",
    "A = np.arange(4).reshape((2, 2))\n",
    "d = np.array((1, 2))\n",
    "D = np.diag(d)\n",
    "B = D.dot(A)\n",
    "d2 = np.expand_dims(d, -1)\n",
    "C = d2 * A\n",
    "E = np.dot(A, d)\n",
    "\n",
    "# now try multiplying the same rank 2 matrix by a stack of vectors\n",
    "I = np.eye(2)\n",
    "I[1,1] += 1\n",
    "B = np.arange(20).reshape((-1, 2))\n",
    "G = np.einsum('jk,ik->ji', B, I)\n",
    "\n",
    "# now try multiplying a stack of matrices by a stack of matrices\n",
    "F = np.tile(I, (5,1,1))\n",
    "for i in range(5):\n",
    "    F[i,1,0] += i\n",
    "H = np.einsum('ijk,ilk->ijl', F, F)\n",
    "\n",
    "# now try multiplying a stack of matrices by a stack of diagonal (vectors, but interpreted as matrices)\n",
    "D2 = np.tile(np.array((2, 1)), (5, 1))\n",
    "U = np.einsum('ijk,ik->ijk', F, D2)\n",
    "\n",
    "# now try multiplying by the diagonal\n",
    "ones = np.ones(4).reshape((2, 2))\n",
    "L = np.einsum('ij,j->ij', ones, d)\n",
    "print(L)"
   ]
  },
  {
   "cell_type": "code",
   "execution_count": 2,
   "metadata": {},
   "outputs": [
    {
     "name": "stdout",
     "output_type": "stream",
     "text": [
      "[[[ 0.          0.          0.        ]\n",
      "  [-0.33040237  0.          0.        ]\n",
      "  [ 1.2953239   1.77695692  0.        ]]\n",
      "\n",
      " [[ 0.          0.          0.        ]\n",
      "  [ 0.49417969  0.          0.        ]\n",
      "  [ 2.45265689 -0.44301211  0.        ]]\n",
      "\n",
      " [[ 0.          0.          0.        ]\n",
      "  [-1.25009695  0.          0.        ]\n",
      "  [ 0.2038571   0.93812283  0.        ]]\n",
      "\n",
      " [[ 0.          0.          0.        ]\n",
      "  [ 0.31359143  0.          0.        ]\n",
      "  [-0.53848896 -0.86957616  0.        ]]\n",
      "\n",
      " [[ 0.          0.          0.        ]\n",
      "  [ 0.62118275  0.          0.        ]\n",
      "  [-0.83217765  1.70415169  0.        ]]]\n",
      "(5, 3, 3)\n",
      "---------------\n",
      "[[[ 0.         -0.33040237  1.2953239 ]\n",
      "  [ 0.          0.          1.77695692]\n",
      "  [ 0.          0.          0.        ]]\n",
      "\n",
      " [[ 0.          0.49417969  2.45265689]\n",
      "  [ 0.          0.         -0.44301211]\n",
      "  [ 0.          0.          0.        ]]\n",
      "\n",
      " [[ 0.         -1.25009695  0.2038571 ]\n",
      "  [ 0.          0.          0.93812283]\n",
      "  [ 0.          0.          0.        ]]\n",
      "\n",
      " [[ 0.          0.31359143 -0.53848896]\n",
      "  [ 0.          0.         -0.86957616]\n",
      "  [ 0.          0.          0.        ]]\n",
      "\n",
      " [[ 0.          0.62118275 -0.83217765]\n",
      "  [ 0.          0.          1.70415169]\n",
      "  [ 0.          0.          0.        ]]]\n",
      "(5, 3, 3)\n",
      "---------------\n"
     ]
    }
   ],
   "source": [
    "import os\n",
    "os.environ['CUDA_VISIBLE_DEVICES'] = '2'\n",
    "import tensorflow as tf\n",
    "import numpy as np\n",
    "A = tf.constant(np.arange(8).reshape((2, 2, 2)))\n",
    "d = tf.constant(np.arange(4).reshape((2, 2)) + 1)\n",
    "D = tf.linalg.diag(d)\n",
    "B = tf.matmul(D, A)\n",
    "d2 = tf.expand_dims(d, -1)\n",
    "C = d2 * A\n",
    "E = tf.einsum('ijk,ik->ij', A, d)\n",
    "\n",
    "# test making a stacked identity\n",
    "I_ = tf.expand_dims(tf.eye(3), 0)\n",
    "I = tf.tile(I_, (5, 1, 1))\n",
    "\n",
    "# testing matrix_band_part\n",
    "G = tf.constant(np.random.normal(size=(5, 3, 3)))\n",
    "G_ld = tf.matrix_band_part(G, -1, 0) - tf.matrix_band_part(G, 0, 0)\n",
    "G_ud = tf.einsum('ijk->ikj', G_ld)\n",
    "\n",
    "with tf.Session() as sess:\n",
    "    items = sess.run([G_ld, G_ud])\n",
    "    \n",
    "for i in items:\n",
    "    print(i)\n",
    "    print(i.shape)\n",
    "    print('-' * 15)"
   ]
  },
  {
   "cell_type": "code",
   "execution_count": null,
   "metadata": {},
   "outputs": [],
   "source": []
  }
 ],
 "metadata": {
  "kernelspec": {
   "display_name": "Python 3",
   "language": "python",
   "name": "python3"
  },
  "language_info": {
   "codemirror_mode": {
    "name": "ipython",
    "version": 3
   },
   "file_extension": ".py",
   "mimetype": "text/x-python",
   "name": "python",
   "nbconvert_exporter": "python",
   "pygments_lexer": "ipython3",
   "version": "3.5.2"
  }
 },
 "nbformat": 4,
 "nbformat_minor": 2
}
