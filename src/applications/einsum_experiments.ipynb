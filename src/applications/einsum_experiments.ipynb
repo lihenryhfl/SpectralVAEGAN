{
 "cells": [
  {
   "cell_type": "code",
   "execution_count": 1,
   "metadata": {},
   "outputs": [
    {
     "name": "stdout",
     "output_type": "stream",
     "text": [
      "[[[ 1.  0.]\n",
      "  [ 0.  4.]]\n",
      "\n",
      " [[ 1.  1.]\n",
      "  [ 1.  5.]]\n",
      "\n",
      " [[ 1.  2.]\n",
      "  [ 2.  8.]]\n",
      "\n",
      " [[ 1.  3.]\n",
      "  [ 3. 13.]]\n",
      "\n",
      " [[ 1.  4.]\n",
      "  [ 4. 20.]]]\n"
     ]
    }
   ],
   "source": [
    "import numpy as np\n",
    "A = np.arange(4).reshape((2, 2))\n",
    "d = np.array((1, 2))\n",
    "D = np.diag(d)\n",
    "B = D.dot(A)\n",
    "d2 = np.expand_dims(d, -1)\n",
    "C = d2 * A\n",
    "E = np.dot(A, d)\n",
    "\n",
    "# now try multiplying the same rank 2 matrix by a stack of vectors\n",
    "I = np.eye(2)\n",
    "I[1,1] += 1\n",
    "B = np.arange(20).reshape((-1, 2))\n",
    "G = np.einsum('jk,ik->ji', B, I)\n",
    "\n",
    "# now try multiplying a stack of matrices by a stack of matrices\n",
    "F = np.tile(I, (5,1,1))\n",
    "for i in range(5):\n",
    "    F[i,1,0] += i\n",
    "H = np.einsum('ijk,ilk->ijl', F, F)\n",
    "\n",
    "# now try multiplying a stack of matrices by a stack of diagonal (vectors, but interpreted as matrices)\n",
    "D2 = np.tile(np.array((2, 1)), (5, 1))\n",
    "U = np.einsum('ijk,ik->ijk', F, D2)\n",
    "\n",
    "# now try multiplying by the diagonal\n",
    "ones = np.ones(4).reshape((2, 2))\n",
    "L = np.einsum('ij,j->ij', ones, d)\n",
    "\n",
    "# PRINTS\n",
    "print(H)"
   ]
  },
  {
   "cell_type": "code",
   "execution_count": 2,
   "metadata": {},
   "outputs": [
    {
     "name": "stdout",
     "output_type": "stream",
     "text": [
      "[[[ 0.          0.          0.        ]\n",
      "  [ 0.09293684  0.          0.        ]\n",
      "  [-0.24754343  0.6174601   0.        ]]\n",
      "\n",
      " [[ 0.          0.          0.        ]\n",
      "  [ 0.73548656  0.          0.        ]\n",
      "  [-1.99307019 -1.84945217  0.        ]]\n",
      "\n",
      " [[ 0.          0.          0.        ]\n",
      "  [ 0.49603658  0.          0.        ]\n",
      "  [ 0.27165009  0.46420075  0.        ]]\n",
      "\n",
      " [[ 0.          0.          0.        ]\n",
      "  [ 0.1414298   0.          0.        ]\n",
      "  [ 0.19081537  0.17882825  0.        ]]\n",
      "\n",
      " [[ 0.          0.          0.        ]\n",
      "  [ 1.00783254  0.          0.        ]\n",
      "  [ 0.82901254  0.95158465  0.        ]]]\n",
      "(5, 3, 3)\n",
      "---------------\n",
      "[[[ 0.          0.09293684 -0.24754343]\n",
      "  [ 0.          0.          0.6174601 ]\n",
      "  [ 0.          0.          0.        ]]\n",
      "\n",
      " [[ 0.          0.73548656 -1.99307019]\n",
      "  [ 0.          0.         -1.84945217]\n",
      "  [ 0.          0.          0.        ]]\n",
      "\n",
      " [[ 0.          0.49603658  0.27165009]\n",
      "  [ 0.          0.          0.46420075]\n",
      "  [ 0.          0.          0.        ]]\n",
      "\n",
      " [[ 0.          0.1414298   0.19081537]\n",
      "  [ 0.          0.          0.17882825]\n",
      "  [ 0.          0.          0.        ]]\n",
      "\n",
      " [[ 0.          1.00783254  0.82901254]\n",
      "  [ 0.          0.          0.95158465]\n",
      "  [ 0.          0.          0.        ]]]\n",
      "(5, 3, 3)\n",
      "---------------\n"
     ]
    }
   ],
   "source": [
    "import os\n",
    "os.environ['CUDA_VISIBLE_DEVICES'] = '0'\n",
    "import tensorflow as tf\n",
    "import numpy as np\n",
    "A = tf.constant(np.arange(8).reshape((2, 2, 2)))\n",
    "d = tf.constant(np.arange(4).reshape((2, 2)) + 1)\n",
    "D = tf.linalg.diag(d)\n",
    "B = tf.matmul(D, A)\n",
    "d2 = tf.expand_dims(d, -1)\n",
    "C = d2 * A\n",
    "E = tf.einsum('ijk,ik->ij', A, d)\n",
    "\n",
    "# test making a stacked identity\n",
    "I_ = tf.expand_dims(tf.eye(3), 0)\n",
    "I = tf.tile(I_, (5, 1, 1))\n",
    "\n",
    "# testing matrix_band_part\n",
    "G = tf.constant(np.random.normal(size=(5, 3, 3)))\n",
    "G_ld = tf.matrix_band_part(G, -1, 0) - tf.matrix_band_part(G, 0, 0)\n",
    "G_ud = tf.einsum('ijk->ikj', G_ld)\n",
    "\n",
    "with tf.Session() as sess:\n",
    "    items = sess.run([G_ld, G_ud])\n",
    "    \n",
    "for i in items:\n",
    "    print(i)\n",
    "    print(i.shape)\n",
    "    print('-' * 15)"
   ]
  },
  {
   "cell_type": "code",
   "execution_count": null,
   "metadata": {},
   "outputs": [],
   "source": [
    "# TEST IF eigh() IS DIFFERENTIABLE\n",
    "A = tf.Variable(np.random.normal(size=(5, 5)))\n",
    "A = tf.matmul(A, A, transpose_b=True)\n",
    "e, v = tf.linalg.eigh(A)\n",
    "loss = tf.linalg.norm(tf.einsum('ij,kj->ik', tf.einsum('ij,j->ij', v, e), v) - tf.cast(tf.eye(5), tf.float64))\n",
    "e, v = e[::-1], v[:, ::-1]\n",
    "error = tf.linalg.norm(tf.einsum('ij,kj->ik', tf.einsum('ij,j->ij', v, e), v) - A)\n",
    "\n",
    "opt = tf.train.AdamOptimizer()\n",
    "step = opt.minimize(loss)\n",
    "\n",
    "# initialize\n",
    "with tf.Session() as sess:\n",
    "    sess.run(tf.initializers.global_variables())\n",
    "    for i in range(10000):\n",
    "        loss_, error_, _ = sess.run([loss, error, step])\n",
    "        if i % 1000 == 0:\n",
    "            print(i, loss_, error_)\n",
    "        \n",
    "    A_ = sess.run(A)\n",
    "    \n",
    "print(A_)"
   ]
  },
  {
   "cell_type": "code",
   "execution_count": null,
   "metadata": {},
   "outputs": [],
   "source": [
    "# TEST MATRIX STACK x MATRIX STACK\n",
    "n_stacks = 10\n",
    "n = 10\n",
    "\n",
    "# generate matrices\n",
    "matrices = []\n",
    "products = []\n",
    "for i in range(n_stacks):\n",
    "    matrix = np.random.normal(size=(n, n))\n",
    "    product = np.dot(matrix, matrix.T)\n",
    "    matrices.append(matrix)\n",
    "    products.append(product)\n",
    "    \n",
    "matrix_stack = np.concatenate([np.expand_dims(m, axis=0) for m in matrices], axis=0)\n",
    "product_stack = np.einsum('ijk,ilk->ijl', matrix_stack, matrix_stack)\n",
    "\n",
    "diffs = []\n",
    "for i in range(n_stacks):\n",
    "    diff = np.sum(products[i] - product_stack[i,:,:])\n",
    "    diffs.append(diff)\n",
    "    \n",
    "print(sum(diffs))"
   ]
  },
  {
   "cell_type": "code",
   "execution_count": null,
   "metadata": {},
   "outputs": [],
   "source": [
    "# TEST MATRIX STACK x VECTOR STACK (REPRESENTING DIAGONALS)\n",
    "n_stacks = 10\n",
    "n = 10\n",
    "\n",
    "# generate matrices\n",
    "matrices = []\n",
    "diagonals = []\n",
    "products = []\n",
    "for i in range(n_stacks):\n",
    "    matrix = np.random.normal(size=(n, n))\n",
    "    diagonal = np.random.normal(size=(n,))\n",
    "    product = np.dot(matrix, np.diag(diagonal))\n",
    "    matrices.append(matrix)\n",
    "    diagonals.append(diagonal)\n",
    "    products.append(product)\n",
    "    \n",
    "matrix_stack = np.concatenate([np.expand_dims(m, axis=0) for m in matrices], axis=0)\n",
    "diagonals_stack = np.concatenate([np.expand_dims(d, axis=0) for d in diagonals], axis=0)\n",
    "product_stack = np.einsum('ijk,ik->ijk', matrix_stack, diagonals_stack)\n",
    "\n",
    "diffs = []\n",
    "for i in range(n_stacks):\n",
    "    diff = np.sum(products[i] - product_stack[i,:,:])\n",
    "    diffs.append(diff)\n",
    "    \n",
    "print(sum(diffs))"
   ]
  },
  {
   "cell_type": "code",
   "execution_count": null,
   "metadata": {},
   "outputs": [],
   "source": [
    "# TEST MATRIX STACK x VECTOR STACK (REPRESENTING ACTUAL VECTORS)\n",
    "n_stacks = 10\n",
    "n = 10\n",
    "\n",
    "# generate matrices\n",
    "matrices = []\n",
    "vectors = []\n",
    "products = []\n",
    "for i in range(n_stacks):\n",
    "    matrix = np.random.normal(size=(n, n))\n",
    "    vector = np.random.normal(size=(n,))\n",
    "    product = np.dot(matrix, vector)\n",
    "    matrices.append(matrix)\n",
    "    vectors.append(vector)\n",
    "    products.append(product)\n",
    "    \n",
    "matrix_stack = np.concatenate([np.expand_dims(m, axis=0) for m in matrices], axis=0)\n",
    "vectors_stack = np.concatenate([np.expand_dims(v, axis=0) for v in vectors], axis=0)\n",
    "product_stack = np.einsum('ijk,ik->ij', matrix_stack, vectors_stack)\n",
    "\n",
    "diffs = []\n",
    "for i in range(n_stacks):\n",
    "    diff = np.sum(products[i] - product_stack[i])\n",
    "    diffs.append(diff)\n",
    "    \n",
    "print(sum(diffs))"
   ]
  },
  {
   "cell_type": "code",
   "execution_count": 14,
   "metadata": {},
   "outputs": [
    {
     "name": "stdout",
     "output_type": "stream",
     "text": [
      "99.99999999999996\n"
     ]
    }
   ],
   "source": [
    "# check numpy broadcasting for row sums\n",
    "n = 100\n",
    "x = np.random.normal(size=(n, 100000)) ** 2\n",
    "x /= np.expand_dims(np.sum(x, axis=1), -1)\n",
    "print(np.sum(x))"
   ]
  },
  {
   "cell_type": "code",
   "execution_count": 4,
   "metadata": {},
   "outputs": [],
   "source": [
    "# check tf broadcasting for row sums\n",
    "n = 100\n",
    "e = tf.constant(np.random.normal(size=(n, 10000)) ** 2)\n",
    "eps = 1e-8\n",
    "pre_e_t = 1/(e + eps)\n",
    "e_t = pre_e_t / tf.expand_dims(tf.reduce_sum(pre_e_t, axis=1), -1) #*tf.expand_dims(tf.reduce_sum(e, axis=1), -1)\n",
    "e_t_sum = tf.reduce_sum(e_t)\n",
    "e_t_max = tf.maximum(e_t, 20)\n",
    "with tf.Session() as sess:\n",
    "    a = sess.run(e_t_max)"
   ]
  },
  {
   "cell_type": "code",
   "execution_count": 6,
   "metadata": {},
   "outputs": [
    {
     "data": {
      "text/plain": [
       "(100, 10000)"
      ]
     },
     "execution_count": 6,
     "metadata": {},
     "output_type": "execute_result"
    }
   ],
   "source": [
    "a.shape"
   ]
  },
  {
   "cell_type": "code",
   "execution_count": null,
   "metadata": {},
   "outputs": [],
   "source": []
  }
 ],
 "metadata": {
  "kernelspec": {
   "display_name": "Python 3",
   "language": "python",
   "name": "python3"
  },
  "language_info": {
   "codemirror_mode": {
    "name": "ipython",
    "version": 3
   },
   "file_extension": ".py",
   "mimetype": "text/x-python",
   "name": "python",
   "nbconvert_exporter": "python",
   "pygments_lexer": "ipython3",
   "version": "3.5.2"
  }
 },
 "nbformat": 4,
 "nbformat_minor": 2
}
