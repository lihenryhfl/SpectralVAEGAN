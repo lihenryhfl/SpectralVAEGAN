{
 "cells": [
  {
   "cell_type": "code",
   "execution_count": 1,
   "metadata": {},
   "outputs": [
    {
     "name": "stdout",
     "output_type": "stream",
     "text": [
      "[[[ 1.  0.]\n",
      "  [ 0.  4.]]\n",
      "\n",
      " [[ 1.  1.]\n",
      "  [ 1.  5.]]\n",
      "\n",
      " [[ 1.  2.]\n",
      "  [ 2.  8.]]\n",
      "\n",
      " [[ 1.  3.]\n",
      "  [ 3. 13.]]\n",
      "\n",
      " [[ 1.  4.]\n",
      "  [ 4. 20.]]]\n"
     ]
    }
   ],
   "source": [
    "import numpy as np\n",
    "A = np.arange(4).reshape((2, 2))\n",
    "d = np.array((1, 2))\n",
    "D = np.diag(d)\n",
    "B = D.dot(A)\n",
    "d2 = np.expand_dims(d, -1)\n",
    "C = d2 * A\n",
    "E = np.dot(A, d)\n",
    "\n",
    "# now try multiplying the same rank 2 matrix by a stack of vectors\n",
    "I = np.eye(2)\n",
    "I[1,1] += 1\n",
    "B = np.arange(20).reshape((-1, 2))\n",
    "G = np.einsum('jk,ik->ji', B, I)\n",
    "\n",
    "# now try multiplying a stack of matrices by a stack of matrices\n",
    "F = np.tile(I, (5,1,1))\n",
    "for i in range(5):\n",
    "    F[i,1,0] += i\n",
    "H = np.einsum('ijk,ilk->ijl', F, F)\n",
    "\n",
    "# now try multiplying a stack of matrices by a stack of diagonal (vectors, but interpreted as matrices)\n",
    "D2 = np.tile(np.array((2, 1)), (5, 1))\n",
    "U = np.einsum('ijk,ik->ijk', F, D2)\n",
    "\n",
    "# now try multiplying by the diagonal\n",
    "ones = np.ones(4).reshape((2, 2))\n",
    "L = np.einsum('ij,j->ij', ones, d)\n",
    "\n",
    "# PRINTS\n",
    "print(H)"
   ]
  },
  {
   "cell_type": "code",
   "execution_count": 2,
   "metadata": {},
   "outputs": [
    {
     "name": "stdout",
     "output_type": "stream",
     "text": [
      "[[[ 0.          0.          0.        ]\n",
      "  [-0.61180171  0.          0.        ]\n",
      "  [-1.56147443  0.37673571  0.        ]]\n",
      "\n",
      " [[ 0.          0.          0.        ]\n",
      "  [-0.36183258  0.          0.        ]\n",
      "  [-0.6330636  -0.63548132  0.        ]]\n",
      "\n",
      " [[ 0.          0.          0.        ]\n",
      "  [ 0.17439752  0.          0.        ]\n",
      "  [-1.6113619   2.12958014  0.        ]]\n",
      "\n",
      " [[ 0.          0.          0.        ]\n",
      "  [ 1.30301825  0.          0.        ]\n",
      "  [-0.34095166  0.71795532  0.        ]]\n",
      "\n",
      " [[ 0.          0.          0.        ]\n",
      "  [ 0.01971448  0.          0.        ]\n",
      "  [-1.33264416 -0.63415442  0.        ]]]\n",
      "(5, 3, 3)\n",
      "---------------\n",
      "[[[ 0.         -0.61180171 -1.56147443]\n",
      "  [ 0.          0.          0.37673571]\n",
      "  [ 0.          0.          0.        ]]\n",
      "\n",
      " [[ 0.         -0.36183258 -0.6330636 ]\n",
      "  [ 0.          0.         -0.63548132]\n",
      "  [ 0.          0.          0.        ]]\n",
      "\n",
      " [[ 0.          0.17439752 -1.6113619 ]\n",
      "  [ 0.          0.          2.12958014]\n",
      "  [ 0.          0.          0.        ]]\n",
      "\n",
      " [[ 0.          1.30301825 -0.34095166]\n",
      "  [ 0.          0.          0.71795532]\n",
      "  [ 0.          0.          0.        ]]\n",
      "\n",
      " [[ 0.          0.01971448 -1.33264416]\n",
      "  [ 0.          0.         -0.63415442]\n",
      "  [ 0.          0.          0.        ]]]\n",
      "(5, 3, 3)\n",
      "---------------\n"
     ]
    }
   ],
   "source": [
    "import os\n",
    "os.environ['CUDA_VISIBLE_DEVICES'] = ''\n",
    "import tensorflow as tf\n",
    "import numpy as np\n",
    "A = tf.constant(np.arange(8).reshape((2, 2, 2)))\n",
    "d = tf.constant(np.arange(4).reshape((2, 2)) + 1)\n",
    "D = tf.linalg.diag(d)\n",
    "B = tf.matmul(D, A)\n",
    "d2 = tf.expand_dims(d, -1)\n",
    "C = d2 * A\n",
    "E = tf.einsum('ijk,ik->ij', A, d)\n",
    "\n",
    "# test making a stacked identity\n",
    "I_ = tf.expand_dims(tf.eye(3), 0)\n",
    "I = tf.tile(I_, (5, 1, 1))\n",
    "\n",
    "# testing matrix_band_part\n",
    "G = tf.constant(np.random.normal(size=(5, 3, 3)))\n",
    "G_ld = tf.matrix_band_part(G, -1, 0) - tf.matrix_band_part(G, 0, 0)\n",
    "G_ud = tf.einsum('ijk->ikj', G_ld)\n",
    "\n",
    "with tf.Session() as sess:\n",
    "    items = sess.run([G_ld, G_ud])\n",
    "    \n",
    "for i in items:\n",
    "    print(i)\n",
    "    print(i.shape)\n",
    "    print('-' * 15)"
   ]
  },
  {
   "cell_type": "code",
   "execution_count": 3,
   "metadata": {},
   "outputs": [
    {
     "name": "stdout",
     "output_type": "stream",
     "text": [
      "WARNING:tensorflow:From /usr/local/lib/python3.5/dist-packages/tensorflow/python/framework/op_def_library.py:263: colocate_with (from tensorflow.python.framework.ops) is deprecated and will be removed in a future version.\n",
      "Instructions for updating:\n",
      "Colocations handled automatically by placer.\n",
      "0 12.068689516077246 7.131616785230269e-15\n",
      "1000 1.7631240192168431 4.374627298898541e-15\n",
      "2000 0.000716749056934651 2.402990748351512e-15\n",
      "3000 0.0005189859941272456 2.10533691070388e-15\n",
      "4000 0.0004200907617477899 1.9724606899282014e-15\n",
      "5000 0.00046897385254747036 1.9423512149414333e-15\n",
      "6000 0.00030362292299335614 1.688871130867313e-15\n",
      "7000 0.00035917987919628007 1.5093497719070133e-15\n",
      "8000 0.00038823040068722563 3.2145977674591333e-15\n",
      "9000 0.00047949057504672037 2.2771894857520546e-15\n",
      "[[ 9.99943609e-01  5.72849899e-06  1.21823217e-04  2.65964792e-05\n",
      "   4.52704354e-06]\n",
      " [ 5.72849899e-06  1.00000071e+00 -5.90438939e-06  4.01475258e-07\n",
      "  -8.20055669e-07]\n",
      " [ 1.21823217e-04 -5.90438939e-06  9.99688115e-01 -4.53500352e-05\n",
      "   1.80124924e-05]\n",
      " [ 2.65964792e-05  4.01475258e-07 -4.53500352e-05  9.99991682e-01\n",
      "   6.26560424e-06]\n",
      " [ 4.52704354e-06 -8.20055669e-07  1.80124924e-05  6.26560424e-06\n",
      "   1.00000981e+00]]\n"
     ]
    }
   ],
   "source": [
    "# TEST IF eigh() IS DIFFERENTIABLE\n",
    "A = tf.Variable(np.random.normal(size=(5, 5)))\n",
    "A = tf.matmul(A, A, transpose_b=True)\n",
    "e, v = tf.linalg.eigh(A)\n",
    "loss = tf.linalg.norm(tf.einsum('ij,kj->ik', tf.einsum('ij,j->ij', v, e), v) - tf.cast(tf.eye(5), tf.float64))\n",
    "e, v = e[::-1], v[:, ::-1]\n",
    "error = tf.linalg.norm(tf.einsum('ij,kj->ik', tf.einsum('ij,j->ij', v, e), v) - A)\n",
    "\n",
    "opt = tf.train.AdamOptimizer()\n",
    "step = opt.minimize(loss)\n",
    "\n",
    "# initialize\n",
    "with tf.Session() as sess:\n",
    "    sess.run(tf.initializers.global_variables())\n",
    "    for i in range(10000):\n",
    "        loss_, error_, _ = sess.run([loss, error, step])\n",
    "        if i % 1000 == 0:\n",
    "            print(i, loss_, error_)\n",
    "        \n",
    "    A_ = sess.run(A)\n",
    "    \n",
    "print(A_)"
   ]
  },
  {
   "cell_type": "code",
   "execution_count": 4,
   "metadata": {},
   "outputs": [
    {
     "name": "stdout",
     "output_type": "stream",
     "text": [
      "-2.1790728943482662e-14\n"
     ]
    }
   ],
   "source": [
    "# TEST MATRIX STACK x MATRIX STACK\n",
    "n_stacks = 10\n",
    "n = 10\n",
    "\n",
    "# generate matrices\n",
    "matrices = []\n",
    "products = []\n",
    "for i in range(n_stacks):\n",
    "    matrix = np.random.normal(size=(n, n))\n",
    "    product = np.dot(matrix, matrix.T)\n",
    "    matrices.append(matrix)\n",
    "    products.append(product)\n",
    "    \n",
    "matrix_stack = np.concatenate([np.expand_dims(m, axis=0) for m in matrices], axis=0)\n",
    "product_stack = np.einsum('ijk,ilk->ijl', matrix_stack, matrix_stack)\n",
    "\n",
    "diffs = []\n",
    "for i in range(n_stacks):\n",
    "    diff = np.sum(products[i] - product_stack[i,:,:])\n",
    "    diffs.append(diff)\n",
    "    \n",
    "print(sum(diffs))"
   ]
  },
  {
   "cell_type": "code",
   "execution_count": 5,
   "metadata": {},
   "outputs": [
    {
     "name": "stdout",
     "output_type": "stream",
     "text": [
      "0.0\n"
     ]
    }
   ],
   "source": [
    "# TEST MATRIX STACK x VECTOR STACK (REPRESENTING DIAGONALS)\n",
    "n_stacks = 10\n",
    "n = 10\n",
    "\n",
    "# generate matrices\n",
    "matrices = []\n",
    "diagonals = []\n",
    "products = []\n",
    "for i in range(n_stacks):\n",
    "    matrix = np.random.normal(size=(n, n))\n",
    "    diagonal = np.random.normal(size=(n,))\n",
    "    product = np.dot(matrix, np.diag(diagonal))\n",
    "    matrices.append(matrix)\n",
    "    diagonals.append(diagonal)\n",
    "    products.append(product)\n",
    "    \n",
    "matrix_stack = np.concatenate([np.expand_dims(m, axis=0) for m in matrices], axis=0)\n",
    "diagonals_stack = np.concatenate([np.expand_dims(d, axis=0) for d in diagonals], axis=0)\n",
    "product_stack = np.einsum('ijk,ik->ijk', matrix_stack, diagonals_stack)\n",
    "\n",
    "diffs = []\n",
    "for i in range(n_stacks):\n",
    "    diff = np.sum(products[i] - product_stack[i,:,:])\n",
    "    diffs.append(diff)\n",
    "    \n",
    "print(sum(diffs))"
   ]
  },
  {
   "cell_type": "code",
   "execution_count": 6,
   "metadata": {},
   "outputs": [
    {
     "name": "stdout",
     "output_type": "stream",
     "text": [
      "3.969047313034935e-15\n"
     ]
    }
   ],
   "source": [
    "# TEST MATRIX STACK x VECTOR STACK (REPRESENTING ACTUAL VECTORS)\n",
    "n_stacks = 10\n",
    "n = 10\n",
    "\n",
    "# generate matrices\n",
    "matrices = []\n",
    "vectors = []\n",
    "products = []\n",
    "for i in range(n_stacks):\n",
    "    matrix = np.random.normal(size=(n, n))\n",
    "    vector = np.random.normal(size=(n,))\n",
    "    product = np.dot(matrix, vector)\n",
    "    matrices.append(matrix)\n",
    "    vectors.append(vector)\n",
    "    products.append(product)\n",
    "    \n",
    "matrix_stack = np.concatenate([np.expand_dims(m, axis=0) for m in matrices], axis=0)\n",
    "vectors_stack = np.concatenate([np.expand_dims(v, axis=0) for v in vectors], axis=0)\n",
    "product_stack = np.einsum('ijk,ik->ij', matrix_stack, vectors_stack)\n",
    "\n",
    "diffs = []\n",
    "for i in range(n_stacks):\n",
    "    diff = np.sum(products[i] - product_stack[i])\n",
    "    diffs.append(diff)\n",
    "    \n",
    "print(sum(diffs))"
   ]
  },
  {
   "cell_type": "code",
   "execution_count": 7,
   "metadata": {},
   "outputs": [
    {
     "name": "stdout",
     "output_type": "stream",
     "text": [
      "100.00000000000004\n"
     ]
    }
   ],
   "source": [
    "# check numpy broadcasting for row sums\n",
    "n = 100\n",
    "x = np.random.normal(size=(n, 100000)) ** 2\n",
    "x /= np.expand_dims(np.sum(x, axis=1), -1)\n",
    "print(np.sum(x))"
   ]
  },
  {
   "cell_type": "code",
   "execution_count": 8,
   "metadata": {},
   "outputs": [],
   "source": [
    "# check tf broadcasting for row sums\n",
    "n = 100\n",
    "e = tf.constant(np.random.normal(size=(n, 10000)) ** 2)\n",
    "eps = 1e-8\n",
    "pre_e_t = 1/(e + eps)\n",
    "e_t = pre_e_t / tf.expand_dims(tf.reduce_sum(pre_e_t, axis=1), -1) #*tf.expand_dims(tf.reduce_sum(e, axis=1), -1)\n",
    "e_t_sum = tf.reduce_sum(e_t)\n",
    "e_t_max = tf.maximum(e_t, 20)\n",
    "with tf.Session() as sess:\n",
    "    a = sess.run(e_t_max)"
   ]
  },
  {
   "cell_type": "code",
   "execution_count": 51,
   "metadata": {},
   "outputs": [
    {
     "name": "stdout",
     "output_type": "stream",
     "text": [
      "8.696384818268271e-14\n"
     ]
    }
   ],
   "source": [
    "# test if our home-made distance function is correct\n",
    "import numpy as np\n",
    "from scipy.spatial.distance import cdist\n",
    "\n",
    "d = 10\n",
    "n_A = 150\n",
    "n_B = 320\n",
    "A = np.random.normal(size=(n_A, d))\n",
    "B = np.random.normal(size=(n_B, d))\n",
    "\n",
    "def pairwise_dists(A, B):\n",
    "    r_A, r_B = np.sum(A*A, 1), np.sum(B*B, 1)\n",
    "\n",
    "    # turn r into column vector\n",
    "    r_A, r_B = np.reshape(r_A, [-1, 1]), np.reshape(r_B, [-1, 1])\n",
    "    D = r_A - 2 * np.matmul(A, np.transpose(B)) + np.transpose(r_B)\n",
    "    \n",
    "    return D\n",
    "\n",
    "def tf_pairwise_dists(A, B):\n",
    "    r_A, r_B = tf.reduce_sum(A*A, axis=1), tf.reduce_sum(B*B, axis=1)\n",
    "\n",
    "    # turn r into column vector\n",
    "    r_A, r_B = tf.reshape(r_A, [-1, 1]), tf.reshape(r_B, [-1, 1])\n",
    "    D = r_A - 2 * tf.matmul(A, tf.transpose(B)) + tf.transpose(r_B)\n",
    "    \n",
    "    return D\n",
    "\n",
    "D1 = np.sqrt(pairwise_dists(A, B))\n",
    "D2 = cdist(A, B)\n",
    "print(np.linalg.norm(D1 - D2))"
   ]
  },
  {
   "cell_type": "code",
   "execution_count": 52,
   "metadata": {},
   "outputs": [
    {
     "name": "stdout",
     "output_type": "stream",
     "text": [
      "TopKV2(values=array([[-2.26117082],\n",
      "       [-2.88857906],\n",
      "       [-2.73920364],\n",
      "       [-2.28149381],\n",
      "       [-1.93490619],\n",
      "       [-1.82265576],\n",
      "       [-1.55965444],\n",
      "       [-2.31400322],\n",
      "       [-2.15424972],\n",
      "       [-2.27176589],\n",
      "       [-1.83201495],\n",
      "       [-1.69428806],\n",
      "       [-2.43927659],\n",
      "       [-1.62745525],\n",
      "       [-1.85440146],\n",
      "       [-1.9322539 ],\n",
      "       [-2.41330013],\n",
      "       [-2.5358286 ],\n",
      "       [-1.55975619],\n",
      "       [-1.83351951],\n",
      "       [-2.64704676],\n",
      "       [-2.34503854],\n",
      "       [-1.7414713 ],\n",
      "       [-2.25154267],\n",
      "       [-1.1715082 ],\n",
      "       [-2.1541664 ],\n",
      "       [-1.34783342],\n",
      "       [-1.67870223],\n",
      "       [-1.90614263],\n",
      "       [-1.91815044],\n",
      "       [-2.72806838],\n",
      "       [-2.06373229],\n",
      "       [-2.37779231],\n",
      "       [-2.07834204],\n",
      "       [-2.08003617],\n",
      "       [-1.26015168],\n",
      "       [-2.45694549],\n",
      "       [-2.53453817],\n",
      "       [-1.42764826],\n",
      "       [-1.60238816],\n",
      "       [-1.89706649],\n",
      "       [-2.71793409],\n",
      "       [-1.75953662],\n",
      "       [-2.11758322],\n",
      "       [-1.98400141],\n",
      "       [-2.19193059],\n",
      "       [-1.47241312],\n",
      "       [-2.7044213 ],\n",
      "       [-2.09157693],\n",
      "       [-2.99669187],\n",
      "       [-3.2909504 ],\n",
      "       [-2.18723492],\n",
      "       [-2.57127021],\n",
      "       [-2.1989743 ],\n",
      "       [-2.98790058],\n",
      "       [-1.75278837],\n",
      "       [-2.40245239],\n",
      "       [-2.18142146],\n",
      "       [-2.59697345],\n",
      "       [-2.55164649],\n",
      "       [-2.3708419 ],\n",
      "       [-1.95601943],\n",
      "       [-2.98301051],\n",
      "       [-1.65345394],\n",
      "       [-2.11235186],\n",
      "       [-1.91168399],\n",
      "       [-2.40451844],\n",
      "       [-1.62688137],\n",
      "       [-3.4202448 ],\n",
      "       [-2.14396761],\n",
      "       [-1.60326141],\n",
      "       [-1.80683509],\n",
      "       [-1.88169205],\n",
      "       [-2.01143112],\n",
      "       [-1.7806207 ],\n",
      "       [-2.60280356],\n",
      "       [-3.23591666],\n",
      "       [-2.29931808],\n",
      "       [-1.74476006],\n",
      "       [-2.41361088],\n",
      "       [-1.449307  ],\n",
      "       [-2.02747539],\n",
      "       [-2.2892873 ],\n",
      "       [-2.24140377],\n",
      "       [-2.36525903],\n",
      "       [-2.30675877],\n",
      "       [-2.04957144],\n",
      "       [-2.31546328],\n",
      "       [-2.11631117],\n",
      "       [-2.19350101],\n",
      "       [-2.63774213],\n",
      "       [-2.21455549],\n",
      "       [-2.58066769],\n",
      "       [-2.10183424],\n",
      "       [-1.48655675],\n",
      "       [-2.02278732],\n",
      "       [-1.55076962],\n",
      "       [-1.60432163],\n",
      "       [-2.80134474],\n",
      "       [-3.18862089],\n",
      "       [-1.56631992],\n",
      "       [-1.89906778],\n",
      "       [-1.26407098],\n",
      "       [-2.76943206],\n",
      "       [-2.09251654],\n",
      "       [-1.81748378],\n",
      "       [-1.5270005 ],\n",
      "       [-1.67943685],\n",
      "       [-1.91400303],\n",
      "       [-1.42178374],\n",
      "       [-1.72083281],\n",
      "       [-2.39013753],\n",
      "       [-2.10945823],\n",
      "       [-1.65635685],\n",
      "       [-2.12798326],\n",
      "       [-2.83959328],\n",
      "       [-2.07069621],\n",
      "       [-2.47323178],\n",
      "       [-2.28479451],\n",
      "       [-1.65633322],\n",
      "       [-1.79308981],\n",
      "       [-2.13852144],\n",
      "       [-1.29075291],\n",
      "       [-2.7591354 ],\n",
      "       [-2.26290733],\n",
      "       [-1.7387411 ],\n",
      "       [-1.86859665],\n",
      "       [-1.78920627],\n",
      "       [-1.87262199],\n",
      "       [-2.12851261],\n",
      "       [-1.48999215],\n",
      "       [-2.82589537],\n",
      "       [-2.02527397],\n",
      "       [-1.60689645],\n",
      "       [-2.11239253],\n",
      "       [-1.84725913],\n",
      "       [-1.81304037],\n",
      "       [-1.25661456],\n",
      "       [-1.85600422],\n",
      "       [-2.70321327],\n",
      "       [-2.02476728],\n",
      "       [-2.70164775],\n",
      "       [-1.49278352],\n",
      "       [-1.61273366],\n",
      "       [-2.36868794],\n",
      "       [-1.80657547],\n",
      "       [-1.7056694 ],\n",
      "       [-1.95176453],\n",
      "       [-1.95497475],\n",
      "       [-1.40272259]]), indices=array([[  0],\n",
      "       [265],\n",
      "       [ 57],\n",
      "       [ 28],\n",
      "       [119],\n",
      "       [ 35],\n",
      "       [302],\n",
      "       [ 93],\n",
      "       [132],\n",
      "       [ 90],\n",
      "       [283],\n",
      "       [194],\n",
      "       [296],\n",
      "       [247],\n",
      "       [ 40],\n",
      "       [242],\n",
      "       [105],\n",
      "       [ 56],\n",
      "       [273],\n",
      "       [ 57],\n",
      "       [  0],\n",
      "       [230],\n",
      "       [ 90],\n",
      "       [ 42],\n",
      "       [115],\n",
      "       [269],\n",
      "       [ 59],\n",
      "       [199],\n",
      "       [246],\n",
      "       [114],\n",
      "       [154],\n",
      "       [222],\n",
      "       [125],\n",
      "       [ 68],\n",
      "       [317],\n",
      "       [164],\n",
      "       [ 77],\n",
      "       [ 19],\n",
      "       [122],\n",
      "       [190],\n",
      "       [164],\n",
      "       [163],\n",
      "       [223],\n",
      "       [241],\n",
      "       [143],\n",
      "       [ 13],\n",
      "       [233],\n",
      "       [289],\n",
      "       [  3],\n",
      "       [241],\n",
      "       [  7],\n",
      "       [199],\n",
      "       [301],\n",
      "       [286],\n",
      "       [  9],\n",
      "       [ 35],\n",
      "       [133],\n",
      "       [188],\n",
      "       [192],\n",
      "       [257],\n",
      "       [ 98],\n",
      "       [ 63],\n",
      "       [174],\n",
      "       [ 25],\n",
      "       [179],\n",
      "       [132],\n",
      "       [187],\n",
      "       [ 38],\n",
      "       [205],\n",
      "       [ 90],\n",
      "       [277],\n",
      "       [ 40],\n",
      "       [160],\n",
      "       [150],\n",
      "       [202],\n",
      "       [248],\n",
      "       [ 79],\n",
      "       [217],\n",
      "       [173],\n",
      "       [160],\n",
      "       [149],\n",
      "       [252],\n",
      "       [277],\n",
      "       [ 18],\n",
      "       [248],\n",
      "       [271],\n",
      "       [ 14],\n",
      "       [  7],\n",
      "       [194],\n",
      "       [242],\n",
      "       [ 98],\n",
      "       [ 10],\n",
      "       [134],\n",
      "       [ 21],\n",
      "       [151],\n",
      "       [113],\n",
      "       [161],\n",
      "       [ 23],\n",
      "       [258],\n",
      "       [ 25],\n",
      "       [288],\n",
      "       [202],\n",
      "       [ 32],\n",
      "       [ 84],\n",
      "       [ 39],\n",
      "       [ 87],\n",
      "       [302],\n",
      "       [286],\n",
      "       [278],\n",
      "       [143],\n",
      "       [ 19],\n",
      "       [ 60],\n",
      "       [252],\n",
      "       [133],\n",
      "       [132],\n",
      "       [174],\n",
      "       [221],\n",
      "       [ 35],\n",
      "       [ 81],\n",
      "       [241],\n",
      "       [121],\n",
      "       [175],\n",
      "       [131],\n",
      "       [  3],\n",
      "       [161],\n",
      "       [272],\n",
      "       [304],\n",
      "       [ 92],\n",
      "       [286],\n",
      "       [ 45],\n",
      "       [ 13],\n",
      "       [173],\n",
      "       [263],\n",
      "       [281],\n",
      "       [123],\n",
      "       [ 38],\n",
      "       [ 60],\n",
      "       [164],\n",
      "       [266],\n",
      "       [243],\n",
      "       [304],\n",
      "       [275],\n",
      "       [181],\n",
      "       [ 90],\n",
      "       [136],\n",
      "       [ 68],\n",
      "       [253],\n",
      "       [ 97],\n",
      "       [265],\n",
      "       [207]], dtype=int32))\n"
     ]
    }
   ],
   "source": [
    "top = tf.nn.top_k(-D1, k=1)\n",
    "with tf.Session() as sess:\n",
    "    A_ = sess.run(top)\n",
    "    \n",
    "print(A_)"
   ]
  },
  {
   "cell_type": "code",
   "execution_count": 53,
   "metadata": {},
   "outputs": [
    {
     "name": "stdout",
     "output_type": "stream",
     "text": [
      "[[-1.00000000e-06]\n",
      " [-6.55607956e+00]\n",
      " [-1.00000000e-06]\n",
      " [-7.25260100e+00]\n",
      " [-9.99999996e-07]\n",
      " [-6.47165663e+00]\n",
      " [-1.00000000e-06]\n",
      " [-7.22018527e+00]\n",
      " [-1.00000000e-06]\n",
      " [-2.31833852e+00]\n",
      " [-1.00000000e-06]\n",
      " [-3.66549425e+00]\n",
      " [-1.00000000e-06]\n",
      " [-4.62922866e+00]\n",
      " [-1.00000000e-06]\n",
      " [-5.65705394e+00]\n",
      " [-1.00000000e-06]\n",
      " [-5.49333111e+00]\n",
      " [-1.00000000e-06]\n",
      " [-5.26725047e+00]\n",
      " [-1.00000000e-06]\n",
      " [-5.06093613e+00]\n",
      " [-1.00000000e-06]\n",
      " [-3.39005575e+00]\n",
      " [-9.99999993e-07]\n",
      " [-6.52135255e+00]\n",
      " [-9.99999998e-07]\n",
      " [-3.30410260e+00]\n",
      " [-1.00000000e-06]\n",
      " [-3.95761562e+00]\n",
      " [-1.00000000e-06]\n",
      " [-2.74902900e+00]\n",
      " [-1.00000000e-06]\n",
      " [-7.28499644e+00]\n",
      " [-1.00000000e-06]\n",
      " [-7.12018352e+00]\n",
      " [-1.00000000e-06]\n",
      " [-2.74728815e+00]\n",
      " [-1.00000001e-06]\n",
      " [-2.13562514e+00]\n",
      " [-9.99999996e-07]\n",
      " [-6.34649495e+00]\n",
      " [-1.00000000e-06]\n",
      " [-6.54948683e+00]\n",
      " [-1.00000000e-06]\n",
      " [-3.22831273e+00]\n",
      " [-9.99999996e-07]\n",
      " [-5.01710683e+00]\n",
      " [-1.00000000e-06]\n",
      " [-4.23589920e+00]\n",
      " [-1.00000000e-06]\n",
      " [-8.28893192e+00]\n",
      " [-1.00000000e-06]\n",
      " [-3.37793973e+00]\n",
      " [-1.00000000e-06]\n",
      " [-5.42074597e+00]\n",
      " [-1.00000000e-06]\n",
      " [-8.05663168e+00]\n",
      " [-1.00000000e-06]\n",
      " [-4.62922866e+00]\n",
      " [-1.00000000e-06]\n",
      " [-1.49947949e+01]\n",
      " [-1.00000000e-06]\n",
      " [-4.27365457e+00]\n",
      " [-1.00000000e-06]\n",
      " [-4.03440854e+00]\n",
      " [-1.00000000e-06]\n",
      " [-5.41464924e+00]\n",
      " [-9.99999996e-07]\n",
      " [-7.39738124e+00]\n",
      " [-1.00000000e-06]\n",
      " [-2.19121551e+00]\n",
      " [-1.00000000e-06]\n",
      " [-3.79683777e+00]\n",
      " [-1.00000000e-06]\n",
      " [-5.67595635e+00]\n",
      " [-1.00000000e-06]\n",
      " [-5.35973121e+00]\n",
      " [-1.00000000e-06]\n",
      " [-4.23589920e+00]\n",
      " [-1.00000000e-06]\n",
      " [-1.95091548e+00]\n",
      " [-9.99999993e-07]\n",
      " [-7.66724341e+00]\n",
      " [-1.00000000e-06]\n",
      " [-2.60991773e+00]\n",
      " [-9.99999996e-07]\n",
      " [-4.83801176e+00]\n",
      " [-9.99999998e-07]\n",
      " [-5.06617478e+00]\n",
      " [-1.00000001e-06]\n",
      " [-4.72288010e+00]\n",
      " [-1.00000000e-06]\n",
      " [-2.92251197e+00]\n",
      " [-1.00000000e-06]\n",
      " [-6.09711458e+00]\n",
      " [-1.00000000e-06]\n",
      " [-2.13562514e+00]\n",
      " [-9.99999993e-07]\n",
      " [-7.42415483e+00]\n",
      " [-1.00000000e-06]\n",
      " [-9.41993905e+00]\n",
      " [-1.00000000e-06]\n",
      " [-5.42074597e+00]\n",
      " [-1.00000000e-06]\n",
      " [-7.23225226e+00]\n",
      " [-9.99999996e-07]\n",
      " [-4.48094342e+00]\n",
      " [-1.00000000e-06]\n",
      " [-9.46719433e+00]\n",
      " [-1.00000000e-06]\n",
      " [-6.13853553e+00]\n",
      " [-1.00000000e-06]\n",
      " [-3.56716316e+00]\n",
      " [-1.00000000e-06]\n",
      " [-4.03735445e+00]\n",
      " [-1.00000000e-06]\n",
      " [-3.55260397e+00]\n",
      " [-9.99999996e-07]\n",
      " [-4.85399243e+00]\n",
      " [-1.00000000e-06]\n",
      " [-4.58236446e+00]\n",
      " [-1.00000000e-06]\n",
      " [-3.40462346e+00]\n",
      " [-1.00000000e-06]\n",
      " [-1.36146970e+01]\n",
      " [-1.00000000e-06]\n",
      " [-4.03735445e+00]\n",
      " [-1.00000000e-06]\n",
      " [-5.17947683e+00]\n",
      " [-1.00000000e-06]\n",
      " [-3.48197044e+00]\n",
      " [-1.00000000e-06]\n",
      " [-7.51567990e+00]\n",
      " [-1.00000000e-06]\n",
      " [-2.39959948e+00]\n",
      " [-1.00000000e-06]\n",
      " [-1.21764880e+01]\n",
      " [-1.00000000e-06]\n",
      " [-7.21838668e+00]\n",
      " [-1.00000000e-06]\n",
      " [-5.41718434e+00]\n",
      " [-1.00000000e-06]\n",
      " [-3.55260397e+00]\n",
      " [-1.00000000e-06]\n",
      " [-4.18885644e+00]\n",
      " [-1.00000000e-06]\n",
      " [-3.43575589e+00]\n",
      " [-1.00000000e-06]\n",
      " [-1.95091548e+00]\n",
      " [-1.00000000e-06]\n",
      " [-9.01988200e+00]\n",
      " [-1.00000001e-06]\n",
      " [-1.24382928e+01]\n",
      " [-1.00000000e-06]\n",
      " [-5.49476079e+00]\n",
      " [-1.00000000e-06]\n",
      " [-5.23450162e+00]\n",
      " [-1.00000000e-06]\n",
      " [-7.52673211e+00]\n",
      " [-9.99999998e-07]\n",
      " [-4.85399243e+00]\n",
      " [-9.99999998e-07]\n",
      " [-3.81253833e+00]\n",
      " [-1.00000000e-06]\n",
      " [-3.43575589e+00]\n",
      " [-1.00000000e-06]\n",
      " [-5.65705394e+00]\n",
      " [-1.00000000e-06]\n",
      " [-5.26725047e+00]\n",
      " [-1.00000001e-06]\n",
      " [-7.40177621e+00]\n",
      " [-1.00000000e-06]\n",
      " [-2.39959948e+00]\n",
      " [-1.00000000e-06]\n",
      " [-5.54634758e+00]\n",
      " [-1.00000000e-06]\n",
      " [-5.25920186e+00]\n",
      " [-9.99999996e-07]\n",
      " [-5.28236163e+00]\n",
      " [-1.00000000e-06]\n",
      " [-8.06069711e+00]\n",
      " [-1.00000000e-06]\n",
      " [-5.43594834e+00]\n",
      " [-1.00000000e-06]\n",
      " [-7.48264989e+00]\n",
      " [-1.00000000e-06]\n",
      " [-5.33130194e+00]\n",
      " [-1.00000000e-06]\n",
      " [-2.60991773e+00]\n",
      " [-1.00000000e-06]\n",
      " [-8.09004591e+00]\n",
      " [-1.00000000e-06]\n",
      " [-3.81417948e+00]\n",
      " [-1.00000000e-06]\n",
      " [-2.92251197e+00]\n",
      " [-1.00000000e-06]\n",
      " [-6.79796961e+00]\n",
      " [-1.00000000e-06]\n",
      " [-7.59941091e+00]\n",
      " [-9.99999996e-07]\n",
      " [-4.95322424e+00]\n",
      " [-1.00000000e-06]\n",
      " [-2.67712864e+00]\n",
      " [-9.99999999e-07]\n",
      " [-2.82805252e+00]\n",
      " [-1.00000000e-06]\n",
      " [-8.52490427e+00]\n",
      " [-1.00000000e-06]\n",
      " [-5.33130194e+00]\n",
      " [-1.00000000e-06]\n",
      " [-3.69328737e+00]\n",
      " [-9.99999996e-07]\n",
      " [-5.00583610e+00]\n",
      " [-1.00000000e-06]\n",
      " [-3.59559242e+00]\n",
      " [-1.00000000e-06]\n",
      " [-4.68252043e+00]\n",
      " [-1.00000000e-06]\n",
      " [-3.48197044e+00]\n",
      " [-1.00000000e-06]\n",
      " [-2.63227516e+00]\n",
      " [-1.00000001e-06]\n",
      " [-6.84088393e+00]\n",
      " [-1.00000000e-06]\n",
      " [-3.66534729e+00]\n",
      " [-1.00000000e-06]\n",
      " [-4.92731453e+00]\n",
      " [-9.99999996e-07]\n",
      " [-3.66534729e+00]\n",
      " [-1.00000000e-06]\n",
      " [-8.13042797e+00]\n",
      " [-1.00000000e-06]\n",
      " [-7.09987129e+00]\n",
      " [-1.00000000e-06]\n",
      " [-6.09711458e+00]\n",
      " [-1.00000000e-06]\n",
      " [-5.37209701e+00]\n",
      " [-1.00000000e-06]\n",
      " [-4.83801176e+00]\n",
      " [-1.00000000e-06]\n",
      " [-8.40697199e+00]\n",
      " [-9.99999996e-07]\n",
      " [-3.79683777e+00]\n",
      " [-9.99999996e-07]\n",
      " [-6.94275732e+00]\n",
      " [-1.00000000e-06]\n",
      " [-6.93924403e+00]\n",
      " [-1.00000000e-06]\n",
      " [-5.43821809e+00]\n",
      " [-9.99999999e-07]\n",
      " [-2.63227516e+00]\n",
      " [-9.99999998e-07]\n",
      " [-5.19093119e+00]\n",
      " [-9.99999996e-07]\n",
      " [-2.74728815e+00]\n",
      " [-1.00000000e-06]\n",
      " [-4.48094342e+00]\n",
      " [-1.00000000e-06]\n",
      " [-6.52135255e+00]\n",
      " [-1.00000000e-06]\n",
      " [-3.65822943e+00]\n",
      " [-1.00000000e-06]\n",
      " [-3.56716316e+00]\n",
      " [-1.00000000e-06]\n",
      " [-4.41012285e+00]\n",
      " [-1.00000000e-06]\n",
      " [-5.30931424e+00]\n",
      " [-1.00000000e-06]\n",
      " [-7.08886680e+00]\n",
      " [-9.99999998e-07]\n",
      " [-5.49476079e+00]\n",
      " [-1.00000000e-06]\n",
      " [-3.71244841e+00]\n",
      " [-1.00000000e-06]\n",
      " [-2.19121551e+00]\n",
      " [-9.99999996e-07]\n",
      " [-5.45960069e+00]\n",
      " [-1.00000001e-06]\n",
      " [-9.01892949e+00]\n",
      " [-1.00000000e-06]\n",
      " [-6.78520835e+00]\n",
      " [-9.99999993e-07]\n",
      " [-1.21744088e+01]\n",
      " [-9.99999996e-07]\n",
      " [-2.67712864e+00]\n",
      " [-1.00000000e-06]\n",
      " [-3.39371648e+00]\n",
      " [-9.99999996e-07]\n",
      " [-7.07187443e+00]\n",
      " [-1.00000000e-06]\n",
      " [-4.63044860e+00]\n",
      " [-1.00000000e-06]\n",
      " [-2.31833852e+00]\n",
      " [-1.00000000e-06]\n",
      " [-3.54493953e+00]\n",
      " [-9.99999996e-07]\n",
      " [-4.52778483e+00]\n",
      " [-1.00000000e-06]\n",
      " [-4.54475166e+00]]\n"
     ]
    }
   ],
   "source": [
    "D = pairwise_dists(A, A) + 1e-6\n",
    "\n",
    "k = 2\n",
    "vals, idxs = tf.nn.top_k(-D, k=k)\n",
    "a = tf.reshape(vals, (-1, 1))\n",
    "range_A = tf.expand_dims(tf.range(idxs.shape[0]), -1)\n",
    "p = tf.expand_dims(tf.random.uniform(shape=(tf.shape(idxs)[0],), maxval=k, dtype=tf.dtypes.int32), -1)\n",
    "p = tf.concat([range_A, p], axis=1)\n",
    "idx = tf.gather_nd(idxs, p)\n",
    "idx = tf.expand_dims(idx, -1)\n",
    "A_ = tf.gather_nd(A, idx)\n",
    "RES = tf.linalg.norm(A_ - A)\n",
    "\n",
    "with tf.Session() as sess:\n",
    "    RES_ = sess.run(a)\n",
    "    \n",
    "print(RES_)"
   ]
  },
  {
   "cell_type": "code",
   "execution_count": 12,
   "metadata": {},
   "outputs": [
    {
     "data": {
      "text/plain": [
       "<Figure size 640x480 with 1 Axes>"
      ]
     },
     "metadata": {},
     "output_type": "display_data"
    }
   ],
   "source": [
    "import matplotlib.pyplot as plt\n",
    "plt.imshow(D)\n",
    "plt.show()"
   ]
  },
  {
   "cell_type": "code",
   "execution_count": 13,
   "metadata": {},
   "outputs": [
    {
     "name": "stdout",
     "output_type": "stream",
     "text": [
      "[[0 1 2]\n",
      " [0 1 2]\n",
      " [0 1 2]\n",
      " [3 4 5]\n",
      " [3 4 5]\n",
      " [3 4 5]\n",
      " [6 7 8]\n",
      " [6 7 8]\n",
      " [6 7 8]]\n"
     ]
    }
   ],
   "source": [
    "small = tf.expand_dims(np.arange(9).reshape((3,3)), 1)\n",
    "bigger = tf.tile(small, [1, 3, 1])\n",
    "bigger = tf.reshape(bigger, (9, 3))\n",
    "with tf.Session() as sess:\n",
    "    bigger_ = sess.run(bigger)\n",
    "    \n",
    "print(bigger_)"
   ]
  },
  {
   "cell_type": "code",
   "execution_count": 14,
   "metadata": {},
   "outputs": [
    {
     "name": "stdout",
     "output_type": "stream",
     "text": [
      "symmetric (should be zero): 0.0\n",
      "[1. 1. 1. 1.]\n",
      "[1. 1. 1. 1.]\n",
      "[0.15322013 0.1210527  0.1105338  0.12548569]\n",
      "[0.15322013 0.1210527  0.1105338  0.12548569]\n",
      "[1. 1. 1. 1.]\n",
      "[1.02228805 0.92734343 0.97838807 1.07198045]\n"
     ]
    }
   ],
   "source": [
    "n = 4\n",
    "W = np.random.normal(size=(n, n))\n",
    "W = np.dot(W, W.T)\n",
    "print(\"symmetric (should be zero):\", np.linalg.norm(W - W.T))\n",
    "# normalize rows\n",
    "row_norm = np.expand_dims(np.sum(W, axis=1), axis=-1)\n",
    "col_norm = np.sum(W, axis=0)\n",
    "\n",
    "print(np.sum(W / col_norm, axis=0))\n",
    "print(np.sum(W / row_norm, axis=1))\n",
    "\n",
    "W = W / row_norm / col_norm\n",
    "print(np.sum(W, axis=1))\n",
    "print(np.sum(W, axis=0))\n",
    "\n",
    "W /= np.expand_dims(np.sum(W, axis=1), axis=-1)\n",
    "print(np.sum(W, axis=1))\n",
    "print(np.sum(W, axis=0))"
   ]
  },
  {
   "cell_type": "code",
   "execution_count": 106,
   "metadata": {},
   "outputs": [
    {
     "name": "stdout",
     "output_type": "stream",
     "text": [
      "[[ 0.0000000e+00  3.8073483e-01  3.0626357e-01  3.1300160e-01]\n",
      " [ 4.1816333e-01 -7.2831597e-08  4.3941957e-01  1.4241715e-01]\n",
      " [ 2.6227877e-01  3.4262878e-01 -1.6959081e-08  3.9509246e-01]\n",
      " [ 3.4623232e-01  1.4343661e-01  5.1033103e-01  0.0000000e+00]]\n",
      "[1.         0.99999994 1.         1.        ]\n",
      "[[1.02667439]\n",
      " [0.86680017]\n",
      " [1.25601417]\n",
      " [0.85051121]]\n",
      "[[1.        ]\n",
      " [0.99999997]\n",
      " [0.99999998]\n",
      " [0.99999997]]\n",
      "[[ 0.0271401 ]\n",
      " [-0.03605703]\n",
      " [-0.01188252]\n",
      " [ 0.02164198]]\n"
     ]
    }
   ],
   "source": [
    "n = 4\n",
    "W = tf.random.normal(shape=(n, n))\n",
    "W = tf_pairwise_dists(W, W) + 1e-8\n",
    "W = tf.Print(W, [tf.linalg.norm(W - tf.transpose(W))], \"symmetric (should be zero):\", summarize=n)\n",
    "# normalize rows\n",
    "row_norm = 1 / tf.reduce_sum(W, axis=1)\n",
    "col_norm = 1 / tf.reduce_sum(W, axis=0)\n",
    "\n",
    "W = tf.Print(W, [tf.reduce_sum(tf.einsum('i,ij->ij', row_norm, W), axis=1), tf.reduce_sum(tf.einsum('j,ij->ij', col_norm, W), axis=0)], summarize=n)\n",
    "\n",
    "W2 = tf.einsum('j,ij->ij', col_norm, tf.einsum('i,ij->ij', row_norm, W))\n",
    "W = W * tf.expand_dims(row_norm, -1) * col_norm\n",
    "W = tf.Print(W, [tf.reduce_sum(W, axis=0), tf.reduce_sum(W, axis=1), tf.linalg.norm(W - W2), tf.linalg.norm(row_norm - col_norm)], summarize=n)\n",
    "W = tf.Print(W, [tf.linalg.norm(W - tf.transpose(W))], \"symmetric (should be zero):\", summarize=n)\n",
    "\n",
    "# check row normalization\n",
    "# row_norm = tf.sqrt(1 / tf.reduce_sum(W, axis=1))\n",
    "row_norm = 1 / tf.reduce_sum(W, axis=1)\n",
    "row_norm = tf.Print(row_norm, [row_norm], 'row_norm ', summarize=n)\n",
    "inv_sqrt_row_norm = tf.sqrt(row_norm)\n",
    "sqrt_row_norm = tf.sqrt(tf.reduce_sum(W, axis=1))\n",
    "L = tf.einsum('j,ij->ij', inv_sqrt_row_norm, tf.einsum('i,ij->ij', inv_sqrt_row_norm, W))\n",
    "W2 = tf.einsum('i,ij->ij', row_norm, W)\n",
    "W = W * tf.expand_dims(row_norm, -1)\n",
    "W = tf.Print(W, [tf.reduce_sum(W, axis=0), tf.reduce_sum(W, axis=1), tf.linalg.norm(W - W2), tf.linalg.norm(W - tf.transpose(W))], summarize=n)\n",
    "\n",
    "# check D^{-1/2} W D^{-1/2} normalization\n",
    "# W2 = tf.einsum('j,ij->ij', row_norm, tf.einsum('i,ij->ij', row_norm, W))\n",
    "# W = tf.matmul(tf.diag(row_norm), tf.matmul(W, tf.diag(row_norm)))\n",
    "# W = tf.Print(W, [tf.reduce_sum(W, axis=0), tf.reduce_sum(W, axis=1), tf.linalg.norm(W - W2), tf.linalg.norm(W - tf.transpose(W))], summarize=n)\n",
    "# W = tf.matmul(tf.diag(row_norm), tf.matmul(W, tf.diag(1/row_norm)))\n",
    "# W = tf.Print(W, [tf.reduce_sum(W, axis=0), tf.reduce_sum(W, axis=1), tf.linalg.norm(W - tf.transpose(W))], summarize=n)\n",
    "\n",
    "with tf.Session() as sess:\n",
    "    sess.run(tf.initializers.global_variables())\n",
    "    W_ = sess.run(W)\n",
    "    srn = sess.run(sqrt_row_norm)\n",
    "    L_ = sess.run(L)\n",
    "    \n",
    "print(W_)\n",
    "print(np.sum(W_, axis=1))\n",
    "# W_ = np.eye(W.shape[0]) - W_\n",
    "ones = np.ones(shape=(W.shape[0], 1))\n",
    "W_sym = np.matmul(W_.T, W_)\n",
    "print(np.matmul(W_sym, ones))\n",
    "print(np.matmul(W_, ones))\n",
    "print(np.matmul(W_, (ones.T * srn).T) - (ones.T * srn).T)"
   ]
  },
  {
   "cell_type": "code",
   "execution_count": 314,
   "metadata": {},
   "outputs": [
    {
     "name": "stdout",
     "output_type": "stream",
     "text": [
      "8.476087e-08 6.0818046e-08\n",
      "right eigenvectors of W_ (should be ones): [[1.        ]\n",
      " [0.99999997]\n",
      " [0.99999998]\n",
      " [0.99999997]]\n",
      "right eigenvectors of L_: [-0.48367858 -0.55225116 -0.4842495  -0.4760001 ]\n",
      "right eigenvectors of W_ in terms of the right eigenvectors of L_ (should be ones again): [-0.08431511 -0.09626873 -0.08441464 -0.0829766 ]\n",
      "right eigenvectors of W_ in terms of the right eigenvectors of L_ (should be ones again): [-0.08431511 -0.12307178 -0.09819028 -0.0828991 ]\n"
     ]
    }
   ],
   "source": [
    "e, v = np.linalg.eig(L_)\n",
    "\n",
    "# test reconstruction\n",
    "L_recon = np.einsum('ij,jk->ik', v, np.einsum('i,ji->ij', e, v))\n",
    "L_recon2 = np.matmul(np.matmul(v, np.diag(e)), v.T)\n",
    "\n",
    "print(np.linalg.norm(L_recon - L_), np.linalg.norm(L_recon2 - L_recon))\n",
    "\n",
    "print('right eigenvectors of W_ (should be ones):', np.matmul(W_, ones))\n",
    "print('right eigenvectors of L_:', v[:,0])\n",
    "print('right eigenvectors of W_ in terms of the right eigenvectors of L_ (should be ones again):', (v * srn)[:,0])\n",
    "print('right eigenvectors of W_ in terms of the right eigenvectors of L_ (should be ones again):', v[:,0] * srn)"
   ]
  },
  {
   "cell_type": "code",
   "execution_count": 337,
   "metadata": {},
   "outputs": [
    {
     "name": "stdout",
     "output_type": "stream",
     "text": [
      "1.0748792367693698e-15 1.962615573354719e-17\n",
      "right eigenvectors of P (should be ones): [[1.]\n",
      " [1.]\n",
      " [1.]\n",
      " [1.]\n",
      " [1.]\n",
      " [1.]\n",
      " [1.]\n",
      " [1.]\n",
      " [1.]\n",
      " [1.]]\n",
      "right eigenvectors of L: [0.10012462 0.09994385 0.10004801 0.09994893 0.10006458 0.10002137\n",
      " 0.099961   0.09994247 0.0999486  0.09999659]\n",
      "right eigenvectors of P in terms of the right eigenvectors of L (should be ones again): [0.29113972 0.29113972 0.29113972 0.29113972 0.29113972 0.29113972\n",
      " 0.29113972 0.29113972 0.29113972 0.29113972]\n",
      "right eigenvectors of P in terms of the right eigenvectors of L (should be ones again): [0.29113972 0.29113972 0.29113972 0.29113972 0.29113972 0.29113972\n",
      " 0.29113972 0.29113972 0.29113972 0.29113972]\n"
     ]
    }
   ],
   "source": [
    "n = 10\n",
    "W = np.random.normal(loc=0, scale=.1, size = (n, n))\n",
    "W = dists = pairwise_dists(W, W)\n",
    "W = np.exp(-W)\n",
    "D_inv = np.diag(1 / np.sum(W, axis=1))\n",
    "\n",
    "# row and column normalize W\n",
    "W = D_inv.dot(W.dot(D_inv))\n",
    "\n",
    "# compute P\n",
    "D_inv = np.diag(1 / np.sum(W, axis=1))\n",
    "P = D_inv.dot(W)\n",
    "\n",
    "# compute L\n",
    "D_half_inv_diag = 1 / np.sqrt(np.sum(W, axis=1))\n",
    "D_half_inv = np.diag(1 / np.sqrt(np.sum(W, axis=1)))\n",
    "D_half = np.diag(np.sqrt(np.sum(W, axis=1)))\n",
    "L = D_half_inv.dot(W.dot(D_half_inv))\n",
    "\n",
    "e, v = np.linalg.eig(L)\n",
    "\n",
    "L_recon = np.einsum('ij,jk->ik', v, np.einsum('i,ji->ij', e, v))\n",
    "L_recon2 = np.matmul(np.matmul(v, np.diag(e)), v.T)\n",
    "\n",
    "print(np.linalg.norm(L_recon - L), np.linalg.norm(L_recon2 - L_recon))\n",
    "\n",
    "print('right eigenvectors of P (should be ones):', np.matmul(P, np.ones(shape=(P.shape[0], 1))))\n",
    "norm_v = v[:,0] / np.sum(v[:,0])\n",
    "print('right eigenvectors of L:', norm_v)\n",
    "print('right eigenvectors of P in terms of the right eigenvectors of L (should be ones again):', norm_v.dot(D_half_inv))\n",
    "print('right eigenvectors of P in terms of the right eigenvectors of L (should be ones again):', norm_v * D_half_inv_diag)"
   ]
  },
  {
   "cell_type": "code",
   "execution_count": 338,
   "metadata": {},
   "outputs": [
    {
     "data": {
      "text/plain": [
       "array([[2.90777357],\n",
       "       [2.9130329 ],\n",
       "       [2.91000023],\n",
       "       [2.91288491],\n",
       "       [2.90951828],\n",
       "       [2.91077508],\n",
       "       [2.91253307],\n",
       "       [2.91307318],\n",
       "       [2.91289442],\n",
       "       [2.91149656]])"
      ]
     },
     "execution_count": 338,
     "metadata": {},
     "output_type": "execute_result"
    }
   ],
   "source": [
    "D_half_inv_diag.reshape((-1,1))"
   ]
  },
  {
   "cell_type": "code",
   "execution_count": 339,
   "metadata": {},
   "outputs": [
    {
     "data": {
      "text/plain": [
       "array([0.29113972, 0.29061408, 0.29091694, 0.29062885, 0.29096513,\n",
       "       0.2908395 , 0.29066395, 0.29061006, 0.2906279 , 0.29076743])"
      ]
     },
     "execution_count": 339,
     "metadata": {},
     "output_type": "execute_result"
    }
   ],
   "source": [
    "A = v / np.sum(v, axis=0) * D_half_inv_diag\n",
    "A[:,0]"
   ]
  },
  {
   "cell_type": "code",
   "execution_count": 344,
   "metadata": {},
   "outputs": [
    {
     "name": "stdout",
     "output_type": "stream",
     "text": [
      "[0.10012458 0.09994381 0.10004797 0.09994889 0.10006454 0.10002134\n",
      " 0.09996096 0.09994243 0.09994856 0.09999655]\n",
      "[0.10012462 0.09994385 0.10004801 0.09994893 0.10006458 0.10002137\n",
      " 0.099961   0.09994247 0.0999486  0.09999659]\n"
     ]
    },
    {
     "data": {
      "text/plain": [
       "array([0.29113972, 0.29061408, 0.29091694, 0.29062885, 0.29096513,\n",
       "       0.2908395 , 0.29066395, 0.29061006, 0.2906279 , 0.29076743])"
      ]
     },
     "execution_count": 344,
     "metadata": {},
     "output_type": "execute_result"
    }
   ],
   "source": [
    "v2 = np.einsum('ij,j->ij', v, np.sum(v, axis=0)/n)\n",
    "print(v2[:,0])\n",
    "print(norm_v)\n",
    "A1 = (v / np.sum(v, axis=0)).dot(np.diag(D_half_inv_diag))\n",
    "A1[:,0]"
   ]
  },
  {
   "cell_type": "code",
   "execution_count": 305,
   "metadata": {},
   "outputs": [
    {
     "name": "stdout",
     "output_type": "stream",
     "text": [
      "(1000,) (1000,)\n"
     ]
    }
   ],
   "source": [
    "dhi = 1 / np.sqrt(np.sum(W, axis=1))\n",
    "print(norm_v.shape, dhi.shape)"
   ]
  },
  {
   "cell_type": "code",
   "execution_count": 306,
   "metadata": {},
   "outputs": [
    {
     "data": {
      "text/plain": [
       "(1000, 1000)"
      ]
     },
     "execution_count": 306,
     "metadata": {},
     "output_type": "execute_result"
    }
   ],
   "source": [
    "ep, vp = np.linalg.eig(P)\n",
    "vp_recon = np.einsum('ij,i->ij', v, dhi)\n",
    "vp_recon /= np.sum(vp_recon)\n",
    "# vp_recon = np.einsum('j,ij->ij', 1 / np.sum(vp_recon, axis=0), vp_recon)\n",
    "vp_recon.shape"
   ]
  },
  {
   "cell_type": "code",
   "execution_count": 307,
   "metadata": {},
   "outputs": [
    {
     "data": {
      "text/plain": [
       "(1000, 1000)"
      ]
     },
     "execution_count": 307,
     "metadata": {},
     "output_type": "execute_result"
    }
   ],
   "source": [
    "# vp =  np.einsum('j,ij->ij', 1 / np.sum(vp, axis=0), vp)\n",
    "vp /= np.sum(vp)\n",
    "vp.shape"
   ]
  },
  {
   "cell_type": "code",
   "execution_count": 308,
   "metadata": {},
   "outputs": [
    {
     "data": {
      "text/plain": [
       "<matplotlib.image.AxesImage at 0x7f1fc02b3940>"
      ]
     },
     "execution_count": 308,
     "metadata": {},
     "output_type": "execute_result"
    },
    {
     "data": {
      "image/png": "[encoded data removed]",
      "text/plain": [
       "<Figure size 432x288 with 1 Axes>"
      ]
     },
     "metadata": {
      "needs_background": "light"
     },
     "output_type": "display_data"
    }
   ],
   "source": [
    "plt.imshow(W)"
   ]
  },
  {
   "cell_type": "code",
   "execution_count": 309,
   "metadata": {},
   "outputs": [
    {
     "data": {
      "text/plain": [
       "<matplotlib.image.AxesImage at 0x7f1fc025f160>"
      ]
     },
     "execution_count": 309,
     "metadata": {},
     "output_type": "execute_result"
    },
    {
     "data": {
      "image/png": "[encoded data removed]",
      "text/plain": [
       "<Figure size 432x288 with 1 Axes>"
      ]
     },
     "metadata": {
      "needs_background": "light"
     },
     "output_type": "display_data"
    }
   ],
   "source": [
    "plt.imshow(vp_recon)"
   ]
  },
  {
   "cell_type": "code",
   "execution_count": 310,
   "metadata": {},
   "outputs": [
    {
     "data": {
      "text/plain": [
       "<matplotlib.image.AxesImage at 0x7f1fc0212ac8>"
      ]
     },
     "execution_count": 310,
     "metadata": {},
     "output_type": "execute_result"
    },
    {
     "data": {
      "image/png": "[encoded data removed]",
      "text/plain": [
       "<Figure size 432x288 with 1 Axes>"
      ]
     },
     "metadata": {
      "needs_background": "light"
     },
     "output_type": "display_data"
    }
   ],
   "source": [
    "plt.imshow(vp)"
   ]
  },
  {
   "cell_type": "code",
   "execution_count": 312,
   "metadata": {},
   "outputs": [
    {
     "name": "stdout",
     "output_type": "stream",
     "text": [
      "0.03510634688392554\n",
      "0.003992463368198303\n"
     ]
    },
    {
     "data": {
      "image/png": "[encoded data removed]",
      "text/plain": [
       "<Figure size 432x288 with 1 Axes>"
      ]
     },
     "metadata": {
      "needs_background": "light"
     },
     "output_type": "display_data"
    }
   ],
   "source": [
    "K = ((vp - vp_recon) ** 2)\n",
    "print(np.linalg.norm(K))\n",
    "plt.imshow(K)\n",
    "print(np.max(K))"
   ]
  },
  {
   "cell_type": "code",
   "execution_count": 16,
   "metadata": {},
   "outputs": [],
   "source": [
    "# TEST COVARIANCES\n",
    "A = np.tile(np.expand_dims(np.eye(3)[:2,:], 0), (10, 1, 1))\n",
    "A\n",
    "# print(A.shape)\n",
    "A = A.reshape((20, 3))\n",
    "# # print(A.shape)\n",
    "# A = A.reshape((10, 2, 3))\n",
    "# A"
   ]
  },
  {
   "cell_type": "code",
   "execution_count": 17,
   "metadata": {},
   "outputs": [
    {
     "name": "stdout",
     "output_type": "stream",
     "text": [
      "[[-0.71586751  1.         -0.0301248   0.31671609  0.32620004]\n",
      " [ 0.17436255  0.19458683  0.0195182   1.          0.51681995]\n",
      " [ 1.         -2.43087017 -0.35302695  0.92159325 -0.37959642]\n",
      " [ 0.21305953  0.43095311  1.          0.95601262 -1.43274257]\n",
      " [-0.43081822  0.90182098 -0.29106806 -0.16643888  1.        ]\n",
      " [ 0.29522254 -0.36733985 -0.50272836  1.         -0.75886295]\n",
      " [ 0.09396666 -0.20277342  0.26149851  1.          0.1574349 ]\n",
      " [ 1.         14.12615889  9.47706931 12.96352402  4.2433389 ]\n",
      " [-0.72118987 -3.50241387  1.         -0.26855569 -0.11572035]\n",
      " [ 0.66873708  1.         -0.97331328  0.3846003  -1.5748628 ]]\n",
      "[[-1.11022302e-16  0.00000000e+00 -3.46944695e-18  5.55111512e-17\n",
      "   0.00000000e+00]\n",
      " [ 0.00000000e+00 -2.77555756e-17 -3.46944695e-18  0.00000000e+00\n",
      "  -1.11022302e-16]\n",
      " [ 0.00000000e+00  0.00000000e+00  0.00000000e+00  0.00000000e+00\n",
      "   0.00000000e+00]\n",
      " [ 0.00000000e+00  0.00000000e+00  0.00000000e+00  0.00000000e+00\n",
      "   2.22044605e-16]\n",
      " [ 0.00000000e+00  0.00000000e+00  0.00000000e+00  0.00000000e+00\n",
      "   0.00000000e+00]\n",
      " [ 5.55111512e-17 -5.55111512e-17  0.00000000e+00  0.00000000e+00\n",
      "  -1.11022302e-16]\n",
      " [ 0.00000000e+00  2.77555756e-17 -5.55111512e-17 -1.11022302e-16\n",
      "  -2.77555756e-17]\n",
      " [ 0.00000000e+00  1.77635684e-15  0.00000000e+00  0.00000000e+00\n",
      "   8.88178420e-16]\n",
      " [ 0.00000000e+00  0.00000000e+00  0.00000000e+00  0.00000000e+00\n",
      "   0.00000000e+00]\n",
      " [ 0.00000000e+00  0.00000000e+00  0.00000000e+00  0.00000000e+00\n",
      "   2.22044605e-16]]\n"
     ]
    }
   ],
   "source": [
    "A = np.random.normal(size=(10, 5))\n",
    "B = A / np.expand_dims(np.max(A, axis=1), -1)\n",
    "print(B)\n",
    "A = tf.constant(A)\n",
    "A = tf.einsum('ij,i->ij', A, 1 / tf.reduce_max(A, axis=1))\n",
    "\n",
    "# A = A / tf.reduce_max(A, axis=1)\n",
    "\n",
    "with tf.Session() as sess:\n",
    "    A_ = sess.run(A)\n",
    "    \n",
    "print(A_ - B)"
   ]
  },
  {
   "cell_type": "code",
   "execution_count": 18,
   "metadata": {},
   "outputs": [
    {
     "data": {
      "text/plain": [
       "(10,)"
      ]
     },
     "execution_count": 18,
     "metadata": {},
     "output_type": "execute_result"
    }
   ],
   "source": [
    "A = np.random.normal(size=(10,5))\n",
    "np.mean(A, axis=1).shape"
   ]
  },
  {
   "cell_type": "code",
   "execution_count": null,
   "metadata": {},
   "outputs": [],
   "source": []
  }
 ],
 "metadata": {
  "kernelspec": {
   "display_name": "Python 3",
   "language": "python",
   "name": "python3"
  },
  "language_info": {
   "codemirror_mode": {
    "name": "ipython",
    "version": 3
   },
   "file_extension": ".py",
   "mimetype": "text/x-python",
   "name": "python",
   "nbconvert_exporter": "python",
   "pygments_lexer": "ipython3",
   "version": "3.5.2"
  }
 },
 "nbformat": 4,
 "nbformat_minor": 2
}
